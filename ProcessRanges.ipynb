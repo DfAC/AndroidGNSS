{
 "cells": [
  {
   "cell_type": "code",
   "execution_count": 1,
   "metadata": {
    "collapsed": true,
    "deletable": true,
    "editable": true
   },
   "outputs": [],
   "source": [
    "import pandas as pd\n",
    "#import pylab\n",
    "#import scipy\n",
    "import matplotlib.pyplot as plt\n",
    "import matplotlib #so I can call next line\n",
    "matplotlib.style.use('ggplot')\n",
    "import seaborn as sns\n",
    "import numpy as np\n",
    "\n",
    "#visuals\n",
    "%matplotlib inline\n",
    "pd.options.display.float_format = '{:,.2f}'.format #7,123,001.34\n",
    "#'{:20,.2f}'.format #change pandas display format\n",
    "pd.options.display.max_rows = 20 \n",
    "#pd.get_option(\"display.max_rows\")\n",
    "\n",
    "\n",
    "from __future__ import division #so I can have float as std and int as //"
   ]
  },
  {
   "cell_type": "code",
   "execution_count": 31,
   "metadata": {
    "collapsed": false,
    "deletable": true,
    "editable": true
   },
   "outputs": [],
   "source": [
    "#in-memory grep implementation, filter lines starting wth filterKeyword\n",
    "#return text string - memory hungry but fast\n",
    "#http://stackoverflow.com/questions/10717504/is-it-possible-to-use-read-csv-to-read-only-specific-lines\n",
    "def SimpleLineGrep(ASCIIfileName,filterKeyword):\n",
    "  from cStringIO import StringIO\n",
    "  s = StringIO()\n",
    "\n",
    "  with open(ASCIIfileName) as f:\n",
    "      for line in f:\n",
    "          if line.startswith(filterKeyword):\n",
    "              s.write(line)\n",
    "  s.seek(0) # \"rewind\" to the beginning of the StringIO object\n",
    "  # slow, test dump implementation\n",
    "  # outFile = open(\"%s/dmp.csv\" % ASCIIfileName[:ASCIIfileName.index('/')], \"w\")\n",
    "  # outFile.write(s.getvalue())\n",
    "  # outFile.close()\n",
    "\n",
    "  return s"
   ]
  },
  {
   "cell_type": "markdown",
   "metadata": {
    "deletable": true,
    "editable": true
   },
   "source": [
    "![](.\\pics\\2ndHackLogo.jpg)\n",
    "\n",
    "# GNSS RAW ranges in Android N\n",
    "## Lukasz K Bonenberg\n",
    "\n",
    "\n",
    "This notebook explains how to calculate pseudo-ranges (code measurments) obtainable from the Android API 24+. This python implementation is based on `ProcessGnssMeas.m` Matlab code from [Google GPS Measurement Tools](https://github.com/google/gps-measurement-tools).\n",
    "\n"
   ]
  },
  {
   "cell_type": "markdown",
   "metadata": {
    "deletable": true,
    "editable": true
   },
   "source": [
    "## Loading and reading data\n",
    "\n",
    "Android data read by GNSSLogger output (hardware depending):\n",
    "\n",
    "\n",
    "* Position, Velocity and Time (PVT) solution \n",
    "* ephemeris information\n",
    "* Pseudorange/Pseudorange Rate (code)\n",
    "* Accumulated Delta Range (Carrier)\n",
    "* HW clock\n",
    "* **raw ranges information**\n",
    "\n",
    "For this workshop we will only focus on the last one."
   ]
  },
  {
   "cell_type": "markdown",
   "metadata": {
    "deletable": true,
    "editable": true
   },
   "source": [
    "## GNSS Navigation Concept\n",
    "\n",
    "* User measures distance to four satellites\n",
    "* Satellites transmit their current positions in orbit\n",
    "* User solves for his position and **clock error**\n",
    "\n",
    "<img src=\"https://upload.wikimedia.org/wikipedia/commons/c/c3/Bad_gdop.png\", width=50%,height=60>\n",
    "\n",
    "### Pseudorange is:\n",
    "\n",
    "* One-way range (distance) between satellite and receiver\n",
    "* Measurement of time-of-flight of coded signals\n",
    "* time difference between satellite and the receiver $$L = \\frac{T_{receiver \\atop arrival}\n",
    "-T^{satellite \\atop transmission}}{c}$$."
   ]
  },
  {
   "cell_type": "markdown",
   "metadata": {
    "deletable": true,
    "editable": true
   },
   "source": [
    "## Confirming validity of the data\n",
    "\n",
    "To obtain second level TTFF smartphone GNSSe use measurements long before TOW is decoded using AGPS.  These measurements are considered invalid in traditional GNSS understanding. To confirm with the traditional approach we should only use the ranges with TOW set (1st and 3rd-bit set). For more information check GPS HAL - *gps.h*.\n",
    "To demonstrate this test logic:"
   ]
  },
  {
   "cell_type": "code",
   "execution_count": 45,
   "metadata": {
    "collapsed": false,
    "deletable": true,
    "editable": true
   },
   "outputs": [],
   "source": [
    "# reads GNSSLogger log file into pandas data frame using Google Logger 2.0\n",
    "def readGNSSLogger (data_file):\n",
    "  print(\"filtering PR from %s\" % data_file)\n",
    "  RawMeas = SimpleLineGrep(data_file,'Raw')\n",
    "  # for 7.0 colNames = [\"Raw\",\"ElapsedRealtimeMillis\",\"TimeNanos\",\"LeapSecond\",\"TimeUncertaintyNanos\",\"FullBiasNanos\",\"BiasNanos\",\"BiasUncertaintyNanos\",\"DriftNanosPerSecond\",\"DriftUncertaintyNanosPerSecond\",\"HardwareClockDiscontinuityCount\",\"Svid\",\"TimeOffsetNanos\",\"State\",\"ReceivedSvTimeNanos\",\"ReceivedSvTimeUncertaintyNanos\",\"Cn0DbHz\",\"PseudorangeRateMetersPerSecond\",\"PseudorangeRateUncertaintyMetersPerSecond\",\"AccumulatedDeltaRangeState\",\"AccumulatedDeltaRangeMeters\",\"AccumulatedDeltaRangeUncertaintyMeters\",\"CarrierFrequencyHz\",\"CarrierCycles\",\"CarrierPhase\",\"CarrierPhaseUncertainty\",\"MultipathIndicator\",\"SnrInDb\",\"ConstellationType\",\"AgcDb\",\"CarrierFrequencyHz\"]\n",
    "  # for 8.0\n",
    "  colNames = [\"Raw\",\"ElapsedRealtimeMillis\",\"TimeNanos\",\"LeapSecond\",\"TimeUncertaintyNanos\",\"FullBiasNanos\",\"BiasNanos\",\"BiasUncertaintyNanos\",\"DriftNanosPerSecond\",\"DriftUncertaintyNanosPerSecond\",\"HardwareClockDiscontinuityCount\",\"Svid\",\"TimeOffsetNanos\",\"State\",\"ReceivedSvTimeNanos\",\"ReceivedSvTimeUncertaintyNanos\",\"Cn0DbHz\",\"PseudorangeRateMetersPerSecond\",\"PseudorangeRateUncertaintyMetersPerSecond\",\"AccumulatedDeltaRangeState\",\"AccumulatedDeltaRangeMeters\",\"AccumulatedDeltaRangeUncertaintyMeters\",\"CarrierFrequencyHz\",\"CarrierCycles\",\"CarrierPhase\",\"CarrierPhaseUncertainty\",\"MultipathIndicator\",\"SnrInDb\",\"ConstellationType\",\"AgcDb\",\"CarrierFrequencyHz\"]\n",
    "  dataFrame = pd.read_csv(RawMeas, delimiter = \",\",error_bad_lines=False,header=None,\n",
    "                          usecols=range(1,len(colNames)),names= colNames,\n",
    "                          encoding = 'utf-8-sig',na_values = [\"NULL\",\"\"],engine ='c')\n",
    "  return dataFrame"
   ]
  },
  {
   "cell_type": "code",
   "execution_count": 73,
   "metadata": {
    "collapsed": false,
    "deletable": true,
    "editable": true
   },
   "outputs": [
    {
     "name": "stdout",
     "output_type": "stream",
     "text": [
      "filtering PR from ./sampleData/IONworkshop2.txt\n"
     ]
    },
    {
     "data": {
      "text/html": [
       "<div>\n",
       "<table border=\"1\" class=\"dataframe\">\n",
       "  <thead>\n",
       "    <tr style=\"text-align: right;\">\n",
       "      <th></th>\n",
       "      <th>ElapsedRealtimeMillis</th>\n",
       "      <th>TimeNanos</th>\n",
       "      <th>LeapSecond</th>\n",
       "      <th>TimeUncertaintyNanos</th>\n",
       "      <th>FullBiasNanos</th>\n",
       "      <th>BiasNanos</th>\n",
       "      <th>BiasUncertaintyNanos</th>\n",
       "      <th>DriftNanosPerSecond</th>\n",
       "      <th>DriftUncertaintyNanosPerSecond</th>\n",
       "      <th>HardwareClockDiscontinuityCount</th>\n",
       "      <th>...</th>\n",
       "      <th>AccumulatedDeltaRangeUncertaintyMeters</th>\n",
       "      <th>CarrierFrequencyHz</th>\n",
       "      <th>CarrierCycles</th>\n",
       "      <th>CarrierPhase</th>\n",
       "      <th>CarrierPhaseUncertainty</th>\n",
       "      <th>MultipathIndicator</th>\n",
       "      <th>SnrInDb</th>\n",
       "      <th>ConstellationType</th>\n",
       "      <th>AgcDb</th>\n",
       "      <th>CarrierFrequencyHz.1</th>\n",
       "    </tr>\n",
       "  </thead>\n",
       "  <tbody>\n",
       "    <tr>\n",
       "      <th>0</th>\n",
       "      <td>74296472</td>\n",
       "      <td>138870000000</td>\n",
       "      <td>nan</td>\n",
       "      <td>nan</td>\n",
       "      <td>-1190488621129604829</td>\n",
       "      <td>0.00</td>\n",
       "      <td>3.70</td>\n",
       "      <td>nan</td>\n",
       "      <td>nan</td>\n",
       "      <td>0</td>\n",
       "      <td>...</td>\n",
       "      <td>340,282,346,638,528,897,590,636,046,441,678,635...</td>\n",
       "      <td>nan</td>\n",
       "      <td>nan</td>\n",
       "      <td>nan</td>\n",
       "      <td>nan</td>\n",
       "      <td>0</td>\n",
       "      <td>nan</td>\n",
       "      <td>1</td>\n",
       "      <td>nan</td>\n",
       "      <td>nan</td>\n",
       "    </tr>\n",
       "    <tr>\n",
       "      <th>1</th>\n",
       "      <td>74296473</td>\n",
       "      <td>138870000000</td>\n",
       "      <td>nan</td>\n",
       "      <td>nan</td>\n",
       "      <td>-1190488621129604829</td>\n",
       "      <td>0.00</td>\n",
       "      <td>3.70</td>\n",
       "      <td>nan</td>\n",
       "      <td>nan</td>\n",
       "      <td>0</td>\n",
       "      <td>...</td>\n",
       "      <td>0.00</td>\n",
       "      <td>nan</td>\n",
       "      <td>nan</td>\n",
       "      <td>nan</td>\n",
       "      <td>nan</td>\n",
       "      <td>0</td>\n",
       "      <td>nan</td>\n",
       "      <td>1</td>\n",
       "      <td>nan</td>\n",
       "      <td>nan</td>\n",
       "    </tr>\n",
       "    <tr>\n",
       "      <th>2</th>\n",
       "      <td>74296474</td>\n",
       "      <td>138870000000</td>\n",
       "      <td>nan</td>\n",
       "      <td>nan</td>\n",
       "      <td>-1190488621129604829</td>\n",
       "      <td>0.00</td>\n",
       "      <td>3.70</td>\n",
       "      <td>nan</td>\n",
       "      <td>nan</td>\n",
       "      <td>0</td>\n",
       "      <td>...</td>\n",
       "      <td>0.00</td>\n",
       "      <td>nan</td>\n",
       "      <td>nan</td>\n",
       "      <td>nan</td>\n",
       "      <td>nan</td>\n",
       "      <td>0</td>\n",
       "      <td>nan</td>\n",
       "      <td>1</td>\n",
       "      <td>nan</td>\n",
       "      <td>nan</td>\n",
       "    </tr>\n",
       "    <tr>\n",
       "      <th>3</th>\n",
       "      <td>74296474</td>\n",
       "      <td>138870000000</td>\n",
       "      <td>nan</td>\n",
       "      <td>nan</td>\n",
       "      <td>-1190488621129604829</td>\n",
       "      <td>0.00</td>\n",
       "      <td>3.70</td>\n",
       "      <td>nan</td>\n",
       "      <td>nan</td>\n",
       "      <td>0</td>\n",
       "      <td>...</td>\n",
       "      <td>0.00</td>\n",
       "      <td>nan</td>\n",
       "      <td>nan</td>\n",
       "      <td>nan</td>\n",
       "      <td>nan</td>\n",
       "      <td>1</td>\n",
       "      <td>nan</td>\n",
       "      <td>1</td>\n",
       "      <td>nan</td>\n",
       "      <td>nan</td>\n",
       "    </tr>\n",
       "    <tr>\n",
       "      <th>4</th>\n",
       "      <td>74296475</td>\n",
       "      <td>138870000000</td>\n",
       "      <td>nan</td>\n",
       "      <td>nan</td>\n",
       "      <td>-1190488621129604829</td>\n",
       "      <td>0.00</td>\n",
       "      <td>3.70</td>\n",
       "      <td>nan</td>\n",
       "      <td>nan</td>\n",
       "      <td>0</td>\n",
       "      <td>...</td>\n",
       "      <td>0.00</td>\n",
       "      <td>nan</td>\n",
       "      <td>nan</td>\n",
       "      <td>nan</td>\n",
       "      <td>nan</td>\n",
       "      <td>1</td>\n",
       "      <td>nan</td>\n",
       "      <td>1</td>\n",
       "      <td>nan</td>\n",
       "      <td>nan</td>\n",
       "    </tr>\n",
       "  </tbody>\n",
       "</table>\n",
       "<p>5 rows × 30 columns</p>\n",
       "</div>"
      ],
      "text/plain": [
       "   ElapsedRealtimeMillis     TimeNanos  LeapSecond  TimeUncertaintyNanos  \\\n",
       "0               74296472  138870000000         nan                   nan   \n",
       "1               74296473  138870000000         nan                   nan   \n",
       "2               74296474  138870000000         nan                   nan   \n",
       "3               74296474  138870000000         nan                   nan   \n",
       "4               74296475  138870000000         nan                   nan   \n",
       "\n",
       "         FullBiasNanos  BiasNanos  BiasUncertaintyNanos  DriftNanosPerSecond  \\\n",
       "0 -1190488621129604829       0.00                  3.70                  nan   \n",
       "1 -1190488621129604829       0.00                  3.70                  nan   \n",
       "2 -1190488621129604829       0.00                  3.70                  nan   \n",
       "3 -1190488621129604829       0.00                  3.70                  nan   \n",
       "4 -1190488621129604829       0.00                  3.70                  nan   \n",
       "\n",
       "   DriftUncertaintyNanosPerSecond  HardwareClockDiscontinuityCount  \\\n",
       "0                             nan                                0   \n",
       "1                             nan                                0   \n",
       "2                             nan                                0   \n",
       "3                             nan                                0   \n",
       "4                             nan                                0   \n",
       "\n",
       "           ...                      AccumulatedDeltaRangeUncertaintyMeters  \\\n",
       "0          ...          340,282,346,638,528,897,590,636,046,441,678,635...   \n",
       "1          ...                                                        0.00   \n",
       "2          ...                                                        0.00   \n",
       "3          ...                                                        0.00   \n",
       "4          ...                                                        0.00   \n",
       "\n",
       "   CarrierFrequencyHz  CarrierCycles  CarrierPhase  CarrierPhaseUncertainty  \\\n",
       "0                 nan            nan           nan                      nan   \n",
       "1                 nan            nan           nan                      nan   \n",
       "2                 nan            nan           nan                      nan   \n",
       "3                 nan            nan           nan                      nan   \n",
       "4                 nan            nan           nan                      nan   \n",
       "\n",
       "   MultipathIndicator  SnrInDb  ConstellationType  AgcDb  CarrierFrequencyHz.1  \n",
       "0                   0      nan                  1    nan                   nan  \n",
       "1                   0      nan                  1    nan                   nan  \n",
       "2                   0      nan                  1    nan                   nan  \n",
       "3                   1      nan                  1    nan                   nan  \n",
       "4                   1      nan                  1    nan                   nan  \n",
       "\n",
       "[5 rows x 30 columns]"
      ]
     },
     "execution_count": 73,
     "metadata": {},
     "output_type": "execute_result"
    }
   ],
   "source": [
    "data_file = \"./sampleData/IONworkshop2.txt\"\n",
    "df_GNSS = readGNSSLogger(data_file)\n",
    "\n",
    "df_GNSS.head()\n",
    "#df_GNSS = df_GNSS[1000:] #cut noisy start of data -> this is for my S8 data"
   ]
  },
  {
   "cell_type": "code",
   "execution_count": 52,
   "metadata": {
    "collapsed": false,
    "deletable": true,
    "editable": true,
    "scrolled": true
   },
   "outputs": [
    {
     "name": "stdout",
     "output_type": "stream",
     "text": [
      "First let's demonstrate how bitwise operations work. For example:\n",
      "1st bit0b00000001\n",
      "3rd bit0b00000100\n",
      "\n",
      "Recorded state 16 can be wrote binary as: 0b00010000\n",
      "Allowing us to check if TOW flag set: False\n"
     ]
    }
   ],
   "source": [
    "print \"First let's demonstrate how bitwise operations work. For example:\\n1st bit{:#010b}\\n3rd bit{:#010b}\".format(1<<0,1<<2)\n",
    "#state = 0b00101110\n",
    "\n",
    "state = df_GNSS.State.iloc[0]\n",
    "print '\\nRecorded state {0} can be wrote binary as: {0:#010b}'.format(state)\n",
    "print 'Allowing us to check if TOW flag set: {}'.format((state & (1 << 0))!=0 and (state & (1 << 2))!=0)"
   ]
  },
  {
   "cell_type": "markdown",
   "metadata": {
    "deletable": true,
    "editable": true
   },
   "source": [
    "## Which satellites are we looking at?\n",
    "As an example of Android N API, lets explore [Android GNSS status](https://developer.android.com/reference/android/location/GnssStatus.html)."
   ]
  },
  {
   "cell_type": "code",
   "execution_count": 63,
   "metadata": {
    "collapsed": true,
    "deletable": true,
    "editable": true
   },
   "outputs": [],
   "source": [
    "def BasicInfo(AndroidData):\n",
    "\n",
    "  listOfSV = AndroidData.Svid.unique()\n",
    "  listOfConstelations = AndroidData.ConstellationType.unique()\n",
    "  GNSS_Constelations = {1:'GPS',2:'SBAS',3:'GLONASS',4:'QZSS',5:'BeiDou',6:'Galileo'}\n",
    "\n",
    "  print 'Observing following SVs:{}\\nObserved constelations: {}'.format(\n",
    "      ','.join(map(str,listOfSV)),','.join([GNSS_Constelations[s] for s in listOfConstelations]))"
   ]
  },
  {
   "cell_type": "code",
   "execution_count": 76,
   "metadata": {
    "collapsed": false,
    "deletable": true,
    "editable": true,
    "scrolled": true
   },
   "outputs": [
    {
     "name": "stdout",
     "output_type": "stream",
     "text": [
      "Observing following SVs:2,5,13,15,16,18,20,21,25,26,29,10,6,12,11,19,4,7,24\n",
      "Observed constelations: GPS,GLONASS,BeiDou,Galileo\n",
      "Observing following SVs:2,4,11,12,19,24\n",
      "Observed constelations: Galileo\n"
     ]
    }
   ],
   "source": [
    "BasicInfo(df_GNSS)\n",
    "\n",
    "#print '\\nFor simplicity we will focus on a single constelation.\\n\\n'\n",
    "df_oneConstelation = df_GNSS[df_GNSS.ConstellationType==6]\n",
    "BasicInfo(df_oneConstelation)"
   ]
  },
  {
   "cell_type": "markdown",
   "metadata": {
    "deletable": true,
    "editable": true
   },
   "source": [
    "## Calculating pseudoranges\n",
    "\n",
    "$$L = \\frac{T_{receiver \\atop arrival}\n",
    "-T^{satellite \\atop transmission}}{c}$$.\n",
    "\n",
    "* receiver clock [ns] is calculated from `public long getTimeNanos()`\n",
    "* received GNSS satelite time [ns]  is calculated from `public long getReceivedSvTimeNanos()`\n",
    "\n",
    "### In more details:\n",
    "\n",
    "* from `GnssMeasurementEvent.Callback` we are using:\n",
    "  * GnssClock\n",
    "    *  +`getTimeNanos()` - receiver clock\n",
    "    * -`getFullBiasNanos()` referenced to GPS starting epoch (0000Z, January 6, 1980)\n",
    "    * -`getBiasNanos()` for sub-ns accuracy\n",
    "    * -`getTimeOffsetNanos()` for hardware related delays\n",
    "  * Collection<GnssMeasurements>\n",
    "    * +`getReceivedSvTimeNanos()` - satellite clock, ref to GPS Week (TOW)\n",
    "* all values in [ns]\n",
    "* anything within 1ms is considered the same epoch\n",
    "\n",
    "### Why use nanoseconds as a unit?\n",
    "\n",
    "A traditional approach define GPS time as combination of GPS week and time of week. This is not possible with this approach as we obtain ranges before TOW is set. Hence our units are ns referenced to GPS starting epoch (0000Z, January 6, 1980). This creates a risk of memory/calculation problem - it is advisable to reduce this value (by subtracting current TOW value) before conducting more complex calculations."
   ]
  },
  {
   "cell_type": "code",
   "execution_count": 77,
   "metadata": {
    "collapsed": false,
    "deletable": true,
    "editable": true
   },
   "outputs": [
    {
     "name": "stdout",
     "output_type": "stream",
     "text": [
      "GPS week [1968] \n"
     ]
    },
    {
     "data": {
      "text/plain": [
       "4910           27,555,043.64\n",
       "4911   72,713,457,561,542.05\n",
       "4912   72,713,455,385,393.86\n",
       "4913   72,713,454,389,830.17\n",
       "4914   72,616,327,070,389.05\n",
       "dtype: float64"
      ]
     },
     "execution_count": 77,
     "metadata": {},
     "output_type": "execute_result"
    }
   ],
   "source": [
    "GNSS_const = {'totalWeekSecs':7*24*3600,'lightSpeed':299792458} #constants\n",
    "\n",
    "GPSWeek = (-df_GNSS.FullBiasNanos*1e-9/GNSS_const['totalWeekSecs']).astype('int')\n",
    "print 'GPS week {} '.format(GPSWeek.unique())\n",
    "\n",
    "tRx_ns  = df_GNSS.TimeNanos+df_GNSS.TimeOffsetNanos-df_GNSS.FullBiasNanos.iloc[0]-(GPSWeek*GNSS_const['totalWeekSecs']*1e9)   \n",
    "#tRx_ns  = df_GNSS.TimeNanos-df_GNSS.FullBiasNanos-(GPSWeek*GNSS_const['totalWeekSecs']*1e9)  +df_GNSS.TimeOffsetNanos \n",
    "PR_m = (tRx_ns-df_GNSS.ReceivedSvTimeNanos)*GNSS_const['lightSpeed']*1e-9\n",
    "PR_m.tail()"
   ]
  },
  {
   "cell_type": "code",
   "execution_count": 66,
   "metadata": {
    "collapsed": false,
    "deletable": true,
    "editable": true
   },
   "outputs": [
    {
     "data": {
      "image/png": "[encoded data removed]",
      "text/plain": [
       "<matplotlib.figure.Figure at 0xcc5f7b8>"
      ]
     },
     "metadata": {},
     "output_type": "display_data"
    }
   ],
   "source": [
    "# sp1\n",
    "plt.subplot(121)\n",
    "plt.scatter(tRx_ns,df_GNSS.ReceivedSvTimeNanos,);\n",
    "plt.axis('equal')\n",
    "\n",
    "# sp2\n",
    "plt.subplot(122)\n",
    "plt.boxplot([tRx_ns,df_GNSS.ReceivedSvTimeNanos]);"
   ]
  },
  {
   "cell_type": "markdown",
   "metadata": {
    "collapsed": false,
    "deletable": true,
    "editable": true
   },
   "source": [
    "### Putting measurments into epochs\n",
    "\n",
    "Values calculated has to be presented per SV per epoch. We need to:\n",
    "\n",
    "* calculate each epoch (anything within 1ms is considered the same epoch)\n",
    "\t* compute full cycle time of measurement, in milliseonds (see `ReadGnssLogger.m`)\n",
    "* obtain SV range for each epoch per satellite\n"
   ]
  },
  {
   "cell_type": "code",
   "execution_count": 67,
   "metadata": {
    "collapsed": false,
    "deletable": true,
    "editable": true,
    "scrolled": true
   },
   "outputs": [
    {
     "ename": "AttributeError",
     "evalue": "'DataFrame' object has no attribute 'SVid'",
     "output_type": "error",
     "traceback": [
      "\u001b[1;31m---------------------------------------------------------------------------\u001b[0m",
      "\u001b[1;31mAttributeError\u001b[0m                            Traceback (most recent call last)",
      "\u001b[1;32m<ipython-input-67-4c24ac6040a7>\u001b[0m in \u001b[0;36m<module>\u001b[1;34m()\u001b[0m\n\u001b[1;32m----> 1\u001b[1;33m \u001b[0mlistOfSV\u001b[0m \u001b[1;33m=\u001b[0m \u001b[0mdf_GNSS\u001b[0m\u001b[1;33m.\u001b[0m\u001b[0mSVid\u001b[0m\u001b[1;33m.\u001b[0m\u001b[0munique\u001b[0m\u001b[1;33m(\u001b[0m\u001b[1;33m)\u001b[0m\u001b[1;33m\u001b[0m\u001b[0m\n\u001b[0m\u001b[0;32m      2\u001b[0m \u001b[0mallRxSec\u001b[0m \u001b[1;33m=\u001b[0m \u001b[1;33m(\u001b[0m\u001b[0mdf_GNSS\u001b[0m\u001b[1;33m.\u001b[0m\u001b[0mTimeNanos\u001b[0m \u001b[1;33m-\u001b[0m \u001b[0mdf_GNSS\u001b[0m\u001b[1;33m.\u001b[0m\u001b[0mFullBiasNanos\u001b[0m\u001b[1;33m)\u001b[0m\u001b[1;33m*\u001b[0m\u001b[1;36m1e-9\u001b[0m\u001b[1;33m;\u001b[0m\u001b[1;33m\u001b[0m\u001b[0m\n\u001b[0;32m      3\u001b[0m \u001b[0mepoch\u001b[0m\u001b[1;33m=\u001b[0m\u001b[0mallRxSec\u001b[0m\u001b[1;33m[\u001b[0m\u001b[1;36m0\u001b[0m\u001b[1;33m:\u001b[0m\u001b[1;33m:\u001b[0m\u001b[0mlen\u001b[0m\u001b[1;33m(\u001b[0m\u001b[0mlistOfSV\u001b[0m\u001b[1;33m)\u001b[0m\u001b[1;33m]\u001b[0m\u001b[1;33m\u001b[0m\u001b[0m\n\u001b[0;32m      4\u001b[0m \u001b[1;33m\u001b[0m\u001b[0m\n\u001b[0;32m      5\u001b[0m \u001b[0mdf_PR\u001b[0m \u001b[1;33m=\u001b[0m\u001b[0mpd\u001b[0m\u001b[1;33m.\u001b[0m\u001b[0mDataFrame\u001b[0m\u001b[1;33m(\u001b[0m\u001b[1;33m{\u001b[0m\u001b[1;34m'epoch'\u001b[0m\u001b[1;33m:\u001b[0m \u001b[0mallRxSec\u001b[0m\u001b[1;33m,\u001b[0m\u001b[1;34m'SV_ID'\u001b[0m\u001b[1;33m:\u001b[0m \u001b[0mdf_GNSS\u001b[0m\u001b[1;33m.\u001b[0m\u001b[0mSVid\u001b[0m\u001b[1;33m,\u001b[0m\u001b[1;34m'PR'\u001b[0m\u001b[1;33m:\u001b[0m \u001b[0mPR_m\u001b[0m\u001b[1;33m}\u001b[0m\u001b[1;33m)\u001b[0m\u001b[1;33m\u001b[0m\u001b[0m\n",
      "\u001b[1;32mC:\\Users\\LKB\\Anaconda2\\lib\\site-packages\\pandas\\core\\generic.pyc\u001b[0m in \u001b[0;36m__getattr__\u001b[1;34m(self, name)\u001b[0m\n\u001b[0;32m   2742\u001b[0m             \u001b[1;32mif\u001b[0m \u001b[0mname\u001b[0m \u001b[1;32min\u001b[0m \u001b[0mself\u001b[0m\u001b[1;33m.\u001b[0m\u001b[0m_info_axis\u001b[0m\u001b[1;33m:\u001b[0m\u001b[1;33m\u001b[0m\u001b[0m\n\u001b[0;32m   2743\u001b[0m                 \u001b[1;32mreturn\u001b[0m \u001b[0mself\u001b[0m\u001b[1;33m[\u001b[0m\u001b[0mname\u001b[0m\u001b[1;33m]\u001b[0m\u001b[1;33m\u001b[0m\u001b[0m\n\u001b[1;32m-> 2744\u001b[1;33m             \u001b[1;32mreturn\u001b[0m \u001b[0mobject\u001b[0m\u001b[1;33m.\u001b[0m\u001b[0m__getattribute__\u001b[0m\u001b[1;33m(\u001b[0m\u001b[0mself\u001b[0m\u001b[1;33m,\u001b[0m \u001b[0mname\u001b[0m\u001b[1;33m)\u001b[0m\u001b[1;33m\u001b[0m\u001b[0m\n\u001b[0m\u001b[0;32m   2745\u001b[0m \u001b[1;33m\u001b[0m\u001b[0m\n\u001b[0;32m   2746\u001b[0m     \u001b[1;32mdef\u001b[0m \u001b[0m__setattr__\u001b[0m\u001b[1;33m(\u001b[0m\u001b[0mself\u001b[0m\u001b[1;33m,\u001b[0m \u001b[0mname\u001b[0m\u001b[1;33m,\u001b[0m \u001b[0mvalue\u001b[0m\u001b[1;33m)\u001b[0m\u001b[1;33m:\u001b[0m\u001b[1;33m\u001b[0m\u001b[0m\n",
      "\u001b[1;31mAttributeError\u001b[0m: 'DataFrame' object has no attribute 'SVid'"
     ]
    }
   ],
   "source": [
    "listOfSV = df_GNSS.SVid.unique()\n",
    "allRxSec = (df_GNSS.TimeNanos - df_GNSS.FullBiasNanos)*1e-9;\n",
    "epoch=allRxSec[0::len(listOfSV)]\n",
    "\n",
    "df_PR =pd.DataFrame({'epoch': allRxSec,'SV_ID': df_GNSS.SVid,'PR': PR_m})\n",
    "SV_ranges = df_PR.pivot(index='epoch',columns='SV_ID', values='PR')\n",
    "SV_ranges.plot();"
   ]
  },
  {
   "cell_type": "markdown",
   "metadata": {
    "deletable": true,
    "editable": true
   },
   "source": [
    "## Putting it all together\n",
    "\n",
    "Lets now define all of above as a single function."
   ]
  },
  {
   "cell_type": "code",
   "execution_count": 24,
   "metadata": {
    "collapsed": true,
    "deletable": true,
    "editable": true
   },
   "outputs": [],
   "source": [
    "def CalculatePseudorange(dataFrame):\n",
    "\n",
    "  GNSS_const = {'totalWeekSecs':7*24*3600,'lightSpeed':299792458} #constants\n",
    "  GPSWeek = (-dataFrame.FullBiasNanos*1e-9/GNSS_const['totalWeekSecs']).astype('int')\n",
    "  print 'GPS week {} '.format(GPSWeek.unique())\n",
    "\n",
    "  tRx_ns  = dataFrame.TimeNanos+dataFrame.TimeOffsetNanos-dataFrame.FullBiasNanos.iloc[0]-(GPSWeek*GNSS_const['totalWeekSecs']*1e9)   \n",
    "  #tRx_ns  = dataFrame.TimeNanos-dataFrame.FullBiasNanos-(GPSWeek*GNSS_const['totalWeekSecs']*1e9)  +dataFrame.TimeOffsetNanos \n",
    "  PR_m = (tRx_ns-dataFrame.ReceivedSvTimeNanos)*GNSS_const['lightSpeed']*1e-9\n",
    "  PR_m.tail()\n",
    "\n",
    "  # get epochs\n",
    "  listOfSV = dataFrame.SVid.unique()\n",
    "  allRxSec = (dataFrame.TimeNanos - dataFrame.FullBiasNanos)*1e-9;\n",
    "  epoch=allRxSec[0::len(listOfSV)] #all epochs, how many obs in data file\n",
    "\n",
    "  #create temp dataframe with ranges only\n",
    "  df_PR =pd.DataFrame({'epoch': allRxSec,'SV_ID': dataFrame.SVid,'PR': PR_m})\n",
    "  # split by columns\n",
    "  df_PRbySV = df_PR.pivot(index='epoch',columns='SV_ID', values='PR')\n",
    "\n",
    "  return df_PRbySV"
   ]
  },
  {
   "cell_type": "code",
   "execution_count": 35,
   "metadata": {
    "collapsed": false,
    "deletable": true,
    "editable": true
   },
   "outputs": [
    {
     "name": "stdout",
     "output_type": "stream",
     "text": [
      "filtering PR from ./sampleData/S8_01.txt\n"
     ]
    }
   ],
   "source": [
    "df_GNSS = readGNSSLogger(data_file)\n"
   ]
  },
  {
   "cell_type": "code",
   "execution_count": 38,
   "metadata": {
    "collapsed": false,
    "deletable": true,
    "editable": true
   },
   "outputs": [
    {
     "name": "stdout",
     "output_type": "stream",
     "text": [
      "195412\n"
     ]
    },
    {
     "data": {
      "text/plain": [
       "167412"
      ]
     },
     "execution_count": 38,
     "metadata": {},
     "output_type": "execute_result"
    }
   ],
   "source": [
    "print(df_GNSS.size)\n",
    "df_GNSS= df_GNSS[1000:]\n",
    "df_GNSS.size"
   ]
  },
  {
   "cell_type": "code",
   "execution_count": 46,
   "metadata": {
    "collapsed": false,
    "deletable": true,
    "editable": true
   },
   "outputs": [
    {
     "name": "stdout",
     "output_type": "stream",
     "text": [
      "filtering PR from ./sampleData/S8_01.txt\n",
      "Observing following SVs:6,12,14,24,25,29,31,32,2\n",
      "Observed constelations: GPS\n",
      "GPS week [1946] \n"
     ]
    },
    {
     "data": {
      "text/html": [
       "<div>\n",
       "<table border=\"1\" class=\"dataframe\">\n",
       "  <thead>\n",
       "    <tr style=\"text-align: right;\">\n",
       "      <th>SV_ID</th>\n",
       "      <th>2</th>\n",
       "      <th>6</th>\n",
       "      <th>12</th>\n",
       "      <th>14</th>\n",
       "      <th>24</th>\n",
       "      <th>25</th>\n",
       "      <th>29</th>\n",
       "      <th>31</th>\n",
       "      <th>32</th>\n",
       "    </tr>\n",
       "    <tr>\n",
       "      <th>epoch</th>\n",
       "      <th></th>\n",
       "      <th></th>\n",
       "      <th></th>\n",
       "      <th></th>\n",
       "      <th></th>\n",
       "      <th></th>\n",
       "      <th></th>\n",
       "      <th></th>\n",
       "      <th></th>\n",
       "    </tr>\n",
       "  </thead>\n",
       "  <tbody>\n",
       "    <tr>\n",
       "      <th>1,177,163,826.00</th>\n",
       "      <td>22,509,830.67</td>\n",
       "      <td>23,407,477.64</td>\n",
       "      <td>20,789,390.10</td>\n",
       "      <td>22,879,330.27</td>\n",
       "      <td>22,668,063.83</td>\n",
       "      <td>20,506,767.96</td>\n",
       "      <td>21,891,101.91</td>\n",
       "      <td>23,594,786.77</td>\n",
       "      <td>22,748,794.64</td>\n",
       "    </tr>\n",
       "    <tr>\n",
       "      <th>1,177,163,827.00</th>\n",
       "      <td>22,509,776.71</td>\n",
       "      <td>23,407,873.07</td>\n",
       "      <td>20,789,818.51</td>\n",
       "      <td>22,879,392.93</td>\n",
       "      <td>22,668,815.71</td>\n",
       "      <td>20,506,727.19</td>\n",
       "      <td>21,890,662.11</td>\n",
       "      <td>23,594,314.60</td>\n",
       "      <td>22,749,194.56</td>\n",
       "    </tr>\n",
       "    <tr>\n",
       "      <th>1,177,163,828.00</th>\n",
       "      <td>22,509,735.33</td>\n",
       "      <td>23,408,269.99</td>\n",
       "      <td>20,790,278.09</td>\n",
       "      <td>22,879,446.29</td>\n",
       "      <td>22,669,561.29</td>\n",
       "      <td>20,506,673.23</td>\n",
       "      <td>21,890,219.02</td>\n",
       "      <td>23,593,845.42</td>\n",
       "      <td>22,749,617.57</td>\n",
       "    </tr>\n",
       "    <tr>\n",
       "      <th>1,177,163,829.00</th>\n",
       "      <td>22,509,702.06</td>\n",
       "      <td>23,408,668.42</td>\n",
       "      <td>20,790,760.46</td>\n",
       "      <td>22,879,503.55</td>\n",
       "      <td>22,670,299.68</td>\n",
       "      <td>20,506,625.86</td>\n",
       "      <td>21,889,805.90</td>\n",
       "      <td>23,593,374.45</td>\n",
       "      <td>22,749,985.11</td>\n",
       "    </tr>\n",
       "    <tr>\n",
       "      <th>1,177,163,830.00</th>\n",
       "      <td>22,509,663.68</td>\n",
       "      <td>23,409,068.04</td>\n",
       "      <td>20,791,231.73</td>\n",
       "      <td>22,879,570.70</td>\n",
       "      <td>22,671,061.15</td>\n",
       "      <td>20,506,582.39</td>\n",
       "      <td>21,889,354.12</td>\n",
       "      <td>23,592,900.18</td>\n",
       "      <td>22,750,375.74</td>\n",
       "    </tr>\n",
       "  </tbody>\n",
       "</table>\n",
       "</div>"
      ],
      "text/plain": [
       "SV_ID                       2             6             12            14  \\\n",
       "epoch                                                                      \n",
       "1,177,163,826.00 22,509,830.67 23,407,477.64 20,789,390.10 22,879,330.27   \n",
       "1,177,163,827.00 22,509,776.71 23,407,873.07 20,789,818.51 22,879,392.93   \n",
       "1,177,163,828.00 22,509,735.33 23,408,269.99 20,790,278.09 22,879,446.29   \n",
       "1,177,163,829.00 22,509,702.06 23,408,668.42 20,790,760.46 22,879,503.55   \n",
       "1,177,163,830.00 22,509,663.68 23,409,068.04 20,791,231.73 22,879,570.70   \n",
       "\n",
       "SV_ID                       24            25            29            31  \\\n",
       "epoch                                                                      \n",
       "1,177,163,826.00 22,668,063.83 20,506,767.96 21,891,101.91 23,594,786.77   \n",
       "1,177,163,827.00 22,668,815.71 20,506,727.19 21,890,662.11 23,594,314.60   \n",
       "1,177,163,828.00 22,669,561.29 20,506,673.23 21,890,219.02 23,593,845.42   \n",
       "1,177,163,829.00 22,670,299.68 20,506,625.86 21,889,805.90 23,593,374.45   \n",
       "1,177,163,830.00 22,671,061.15 20,506,582.39 21,889,354.12 23,592,900.18   \n",
       "\n",
       "SV_ID                       32  \n",
       "epoch                           \n",
       "1,177,163,826.00 22,748,794.64  \n",
       "1,177,163,827.00 22,749,194.56  \n",
       "1,177,163,828.00 22,749,617.57  \n",
       "1,177,163,829.00 22,749,985.11  \n",
       "1,177,163,830.00 22,750,375.74  "
      ]
     },
     "execution_count": 46,
     "metadata": {},
     "output_type": "execute_result"
    }
   ],
   "source": [
    "df_GNSS = readGNSSLogger(data_file)\n",
    "df_GNSS = df_GNSS[df_GNSS.ConstellationType==1]\n",
    "df_GNSS = df_GNSS[1000:]\n",
    "BasicInfo(df_GNSS)\n",
    "\n",
    "test = CalculatePseudorange(df_GNSS)\n",
    "test.tail()"
   ]
  },
  {
   "cell_type": "code",
   "execution_count": 39,
   "metadata": {
    "collapsed": false,
    "deletable": true,
    "editable": true
   },
   "outputs": [
    {
     "data": {
      "text/plain": [
       "Int64Index([2, 6, 12, 14, 24, 25, 29, 31, 32], dtype='int64', name=u'SV_ID')"
      ]
     },
     "execution_count": 39,
     "metadata": {},
     "output_type": "execute_result"
    }
   ],
   "source": [
    "test.columns"
   ]
  },
  {
   "cell_type": "code",
   "execution_count": 47,
   "metadata": {
    "collapsed": false,
    "deletable": true,
    "editable": true,
    "scrolled": true
   },
   "outputs": [
    {
     "data": {
      "image/png": "[encoded data removed]",
      "text/plain": [
       "<matplotlib.figure.Figure at 0xd2a1978>"
      ]
     },
     "metadata": {},
     "output_type": "display_data"
    }
   ],
   "source": [
    "test.plot();"
   ]
  },
  {
   "cell_type": "markdown",
   "metadata": {
    "deletable": true,
    "editable": true
   },
   "source": [
    "## Time accuracy\n",
    "\n",
    "* 'getBiasUncertaintyNanos()' for the clock's Bias Uncertainty (1-Sigma) in nanoseconds. Usualy 20ns if fix, or ~$2^{e-9}$ns (2s) before.\n",
    "* 'getTimeUncertaintyNanos()'for the hardware clock's time Uncertainty (1-Sigma) in nanoseconds. This tends to be 0.\n"
   ]
  },
  {
   "cell_type": "code",
   "execution_count": 48,
   "metadata": {
    "collapsed": false,
    "deletable": true,
    "editable": true,
    "scrolled": false
   },
   "outputs": [
    {
     "data": {
      "image/png": "[encoded data removed]",
      "text/plain": [
       "<matplotlib.figure.Figure at 0xe064c50>"
      ]
     },
     "metadata": {},
     "output_type": "display_data"
    }
   ],
   "source": [
    "df_GNSS.BiasUncertaintyNanos.plot()\n",
    "plt.ylabel('Bias Uncertainty [ns]');"
   ]
  },
  {
   "cell_type": "markdown",
   "metadata": {
    "deletable": true,
    "editable": true
   },
   "source": [
    "## Using Galileo\n"
   ]
  },
  {
   "cell_type": "code",
   "execution_count": 49,
   "metadata": {
    "collapsed": false,
    "deletable": true,
    "editable": true,
    "scrolled": false
   },
   "outputs": [
    {
     "name": "stdout",
     "output_type": "stream",
     "text": [
      "filtering PR from ./sampleData/S8_01.txt\n",
      "Observing following SVs:2,11,22\n",
      "Observed constelations: Galileo\n",
      "GPS week [1946] \n"
     ]
    },
    {
     "data": {
      "image/png": "[encoded data removed]",
      "text/plain": [
       "<matplotlib.figure.Figure at 0xe064b70>"
      ]
     },
     "metadata": {},
     "output_type": "display_data"
    }
   ],
   "source": [
    "df_GNSS = readGNSSLogger(data_file)\n",
    "df_GNSS = df_GNSS[df_GNSS.ConstellationType==6]\n",
    "BasicInfo(df_GNSS)\n",
    "\n",
    "dfGAL = CalculatePseudorange(df_GNSS)\n",
    "dfGAL.plot();"
   ]
  },
  {
   "cell_type": "markdown",
   "metadata": {
    "deletable": true,
    "editable": true
   },
   "source": [
    "Galileo ranges include 0s, which need to be filtered. This example demonstrate that extra checks need to put in place to avoid strange results.\n",
    "\n",
    "## Problems with the accuracy of calculations\n",
    "\n",
    "Pandas will automaticaly determine best type of variables to use. As discussed before with large numbers we might still end up with calculation errors due to rounding (float point calculation). Example below demonstrate the problem.\n"
   ]
  },
  {
   "cell_type": "code",
   "execution_count": 50,
   "metadata": {
    "collapsed": false,
    "deletable": true,
    "editable": true
   },
   "outputs": [
    {
     "name": "stdout",
     "output_type": "stream",
     "text": [
      "ElapsedRealtimeMillis                       int64\n",
      "TimeNanos                                   int64\n",
      "LeapSecond                                float64\n",
      "TimeUncertaintyNanos                      float64\n",
      "FullBiasNanos                               int64\n",
      "BiasNanos                                 float64\n",
      "BiasUncertaintyNanos                      float64\n",
      "DriftNanosPerSecond                       float64\n",
      "DriftUncertaintyNanosPerSecond            float64\n",
      "HardwareClockDiscontinuityCount             int64\n",
      "                                           ...   \n",
      "AccumulatedDeltaRangeState                  int64\n",
      "AccumulatedDeltaRangeMeters               float64\n",
      "AccumulatedDeltaRangeUncertaintyMeters    float64\n",
      "CarrierFrequencyHz                        float64\n",
      "CarrierCycles                             float64\n",
      "CarrierPhase                              float64\n",
      "CarrierPhaseUncertainty                   float64\n",
      "MultipathIndicator                          int64\n",
      "SnrInDb                                   float64\n",
      "ConstellationType                           int64\n",
      "dtype: object\n"
     ]
    }
   ],
   "source": [
    "print df_GNSS.dtypes"
   ]
  },
  {
   "cell_type": "code",
   "execution_count": 10,
   "metadata": {
    "collapsed": true,
    "deletable": true,
    "editable": true
   },
   "outputs": [],
   "source": [
    "def CheckCalculus(number):\n",
    "\n",
    "  y=number-1\n",
    "  z=number-1+1\n",
    "  print 'Checking for floating poing overflow, it should be 1 and 0\\nx-y={:}\\nz-x={:}'.format(x-y,x-z)"
   ]
  },
  {
   "cell_type": "code",
   "execution_count": 23,
   "metadata": {
    "collapsed": false,
    "deletable": true,
    "editable": true,
    "scrolled": true
   },
   "outputs": [
    {
     "name": "stdout",
     "output_type": "stream",
     "text": [
      "Checking for floating poing overflow, it should be 1 and 0\n",
      "x-y=1\n",
      "z-x=0\n",
      "Checking for floating poing overflow, it should be 1 and 0\n",
      "x-y=0.0\n",
      "z-x=0.0\n",
      "Checking for floating poing overflow, it should be 1 and 0\n",
      "x-y=10361565976123602433\n",
      "z-x=10361565976123602432\n"
     ]
    }
   ],
   "source": [
    "x=-1151285108458178048\n",
    "CheckCalculus(x)\n",
    "CheckCalculus(x*1.0) #float\n",
    "CheckCalculus(x*10)\n",
    "\n",
    "import decimal as dec\n"
   ]
  },
  {
   "cell_type": "markdown",
   "metadata": {
    "deletable": true,
    "editable": true
   },
   "source": [
    "A careful approach is needed to avoid this calculation problem. Also check those additional resources:\n",
    "\n",
    "* <http://mpmath.org/>"
   ]
  },
  {
   "cell_type": "markdown",
   "metadata": {
    "deletable": true,
    "editable": true
   },
   "source": [
    "# Some helpful links\n",
    "\n",
    "* [Google code](https://github.com/google/gps-measurement-tools) - this is the official code. Check here in case of any doubt. This code is in Matlab.\n",
    "* [my version of GPS Measurement tools](https://github.com/DfAC/gps-measurement-tools), mostly added notes and small changes simplifying the use of script.\n",
    "* [this repo](https://github.com/DfAC/AndroidGNSS)\n",
    "\n",
    "\n",
    "* [useful comments on pandas](d:\\tmp\\Dropbox\\Edu\\ION_GNSS\\AndroidGNSS\\)\n",
    "* [bitwise operations in python](https://wiki.python.org/moin/BitwiseOperators)\n",
    "* [format string](https://docs.python.org/3/library/string.html)\n",
    "* [format output](https://pyformat.info)\n",
    "* [Rokybun blog](http://rokubun.cat/2016/06/30/android-n-preview-gnss-measurements/)\n",
    "* [BlackDotGNSS blog](http://www.blackdotgnss.com/2016/09/20/ppp-with-smartphones-are-we-there-yet/)\n"
   ]
  }
 ],
 "metadata": {
  "anaconda-cloud": {},
  "kernelspec": {
   "display_name": "Python [default]",
   "language": "python",
   "name": "python2"
  },
  "language_info": {
   "codemirror_mode": {
    "name": "ipython",
    "version": 2
   },
   "file_extension": ".py",
   "mimetype": "text/x-python",
   "name": "python",
   "nbconvert_exporter": "python",
   "pygments_lexer": "ipython2",
   "version": "2.7.12"
  }
 },
 "nbformat": 4,
 "nbformat_minor": 1
}
