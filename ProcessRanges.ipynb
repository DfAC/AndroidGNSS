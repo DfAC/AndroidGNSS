{
 "cells": [
  {
   "cell_type": "code",
   "execution_count": null,
   "metadata": {
    "collapsed": false
   },
   "outputs": [],
   "source": [
    "import pandas as pd\n",
    "#import pylab\n",
    "#import scipy\n",
    "import matplotlib.pyplot as plt\n",
    "import matplotlib #so I can call next line\n",
    "matplotlib.style.use('ggplot')\n",
    "import seaborn as sns\n",
    "import numpy as np\n",
    "\n",
    "#visuals\n",
    "%matplotlib inline\n",
    "pd.options.display.float_format = '{:,.2f}'.format #7,123,001.34\n",
    "#'{:20,.2f}'.format #change pandas display format\n",
    "pd.options.display.max_rows = 20 \n",
    "#pd.get_option(\"display.max_rows\")\n",
    "\n",
    "\n",
    "from __future__ import division #so I can have float as std and int as //\n",
    "\n",
    "#my own functions\n",
    "#from supportFunctions import * #you CAN'T RELOAD functions"
   ]
  },
  {
   "cell_type": "markdown",
   "metadata": {},
   "source": [
    "# Processing GNSS measurements\n",
    "\n",
    "This presentation aims to explain how to calculate pseudo ranges from the obtainable from the Android API 24+.\n",
    "\n",
    "This code is the equivalent of `ProcessGnssMeas.m` Matlab code from [Google GPS Measurement Tools](https://github.com/google/gps-measurement-tools).\n",
    "\n",
    "## short intro to GNSS ranges\n",
    "\n",
    "<img src=\"https://upload.wikimedia.org/wikipedia/commons/c/c3/Bad_gdop.png\", width=50%,height=60>\n",
    "\n",
    "\n",
    "Pseudorange is transmission time from satellite to the receiver, calculated as $$L = \\frac{T_{receiver \\atop arrival}\n",
    "-T^{satellite \\atop transmission}}{c}$$. \n",
    "It is called pseudorange as <https://www.youtube.com/playlist?list=PL635065C128E0DB27>\n",
    "\n",
    "\n",
    "# Loading and reading data"
   ]
  },
  {
   "cell_type": "code",
   "execution_count": null,
   "metadata": {
    "collapsed": false
   },
   "outputs": [],
   "source": [
    "data_file = \"../GNSSdatasets/raw.csv\"\n",
    "#data_file = \"./workshop_trials01.txt\"\n",
    "print(\"reading %s\" % data_file)\n",
    "df_GNSS = pd.read_csv(data_file, delimiter = \",\", error_bad_lines=False,header=0,\\\n",
    "                     encoding = 'utf-8-sig',na_values = [\"NULL\",\"\"],engine ='c');\n",
    "                     #,nrows = 1000); #parse_dates = ['date'],index_col=0,header = 0,skiprows=range(0, 11),\n",
    "df_GNSS.head()"
   ]
  },
  {
   "cell_type": "code",
   "execution_count": null,
   "metadata": {
    "collapsed": false
   },
   "outputs": [],
   "source": [
    "df_GNSS.dtypes"
   ]
  },
  {
   "cell_type": "code",
   "execution_count": null,
   "metadata": {
    "collapsed": false
   },
   "outputs": [],
   "source": [
    "totalWeekSecs = 7*24*3600\n",
    "totalWeekSecs #in integer so calculations are done properly"
   ]
  },
  {
   "cell_type": "markdown",
   "metadata": {},
   "source": [
    "My values are diff from [Frank sample](https://docs.google.com/spreadsheets/d/1e9JaVn9hq04tEVoCDkO7EHi8LdDyf0X7_IuQZ3U1b-E/edit#gid=80118229), is this due to accuracy? We need to check this vs Matlab code.\n"
   ]
  },
  {
   "cell_type": "code",
   "execution_count": null,
   "metadata": {
    "collapsed": false
   },
   "outputs": [],
   "source": [
    "GPSWeek = (-df_GNSS.FullBiasNanos*1e-9/totalWeekSecs).astype('int')\n",
    "tRx_ns = df_GNSS.TimeNanos+df_GNSS.TimeOffsetNanos - (df_GNSS.FullBiasNanos+df_GNSS.BiasNanos)-(GPSWeek*totalWeekSecs*1e9)\n",
    "PR_ms = (tRx_ns-df_GNSS.ReceivedSvTimeNanos)*1e-6\n",
    "PR_m = PR_ms*299792458*1e-3\n",
    "PR_m.head()"
   ]
  },
  {
   "cell_type": "markdown",
   "metadata": {},
   "source": [
    "## Problems with accuracy of calculations\n",
    "\n",
    "Excel, the same as python has problem with large numbers, if you use floats. Using int removes the problem"
   ]
  },
  {
   "cell_type": "code",
   "execution_count": null,
   "metadata": {
    "collapsed": false
   },
   "outputs": [],
   "source": [
    "x=-1151285108458178048\n",
    "y=x-1\n",
    "z=x-1+1\n",
    "print 'x={:}\\ny={:}\\nz={:}'.format(x,y,z)\n",
    "print x-y\n",
    "print z-x"
   ]
  }
 ],
 "metadata": {
  "kernelspec": {
   "display_name": "Python 2",
   "language": "python",
   "name": "python2"
  },
  "language_info": {
   "codemirror_mode": {
    "name": "ipython",
    "version": 2
   },
   "file_extension": ".py",
   "mimetype": "text/x-python",
   "name": "python",
   "nbconvert_exporter": "python",
   "pygments_lexer": "ipython2",
   "version": "2.7.12"
  }
 },
 "nbformat": 4,
 "nbformat_minor": 1
}
