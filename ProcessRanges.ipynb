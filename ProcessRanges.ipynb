{
 "cells": [
  {
   "cell_type": "code",
   "execution_count": 1,
   "metadata": {},
   "outputs": [],
   "source": [
    "import pandas as pd\n",
    "#import pylab\n",
    "#import scipy\n",
    "import matplotlib.pyplot as plt\n",
    "import matplotlib #so I can call next line\n",
    "matplotlib.style.use('ggplot')\n",
    "# import seaborn as sns\n",
    "import numpy as np\n",
    "\n",
    "#visuals\n",
    "%matplotlib inline\n",
    "pd.options.display.float_format = '{:,.2f}'.format #7,123,001.34\n",
    "#'{:20,.2f}'.format #change pandas display format\n",
    "pd.options.display.max_rows = 20 \n",
    "#pd.get_option(\"display.max_rows\")\n",
    "\n",
    "\n",
    "#from __future__ import division #so I can have float as std and int as //"
   ]
  },
  {
   "cell_type": "code",
   "execution_count": 2,
   "metadata": {},
   "outputs": [],
   "source": [
    "#in-memory grep implementation, filter lines starting wth filterKeyword\n",
    "#return text string - memory hungry but fast\n",
    "#http://stackoverflow.com/questions/10717504/is-it-possible-to-use-read-csv-to-read-only-specific-lines\n",
    "def SimpleLineGrep(ASCIIfileName,filterKeyword):\n",
    "  try:\n",
    "    from StringIO import StringIO\n",
    "  except ImportError:\n",
    "    from io import StringIO\n",
    "  s = StringIO()\n",
    "\n",
    "  with open(ASCIIfileName) as f:\n",
    "      for line in f:\n",
    "          if line.startswith(filterKeyword):\n",
    "              s.write(line)\n",
    "  s.seek(0) # \"rewind\" to the beginning of the StringIO object\n",
    "\n",
    "  return s"
   ]
  },
  {
   "cell_type": "markdown",
   "metadata": {},
   "source": [
    "<img src=\".\\pics\\GRACE_UoN.png\" alt=\"Drawing\" style=\"width: 200px;\"/>\n",
    "\n",
    "# GNSS RAW ranges in Android N\n",
    "## Lukasz K Bonenberg\n",
    "\n",
    "\n",
    "This notebook explains how to calculate pseudo-ranges (code measurments) obtainable from the Android API 24+. This is python implementation of `ProcessGnssMeas.m` Matlab routine from [Google's GPS Measurement Tools](https://github.com/google/gps-measurement-tools).\n",
    "**It only looks at GPS L1 observations.**\n",
    "\n",
    "\n",
    "## RAW GNSS data\n",
    "\n",
    "`android.location` provide following information:\n",
    "\n",
    "\n",
    "* Position, Velocity and Time (PVT) internal solution; \n",
    "* Accumulated Delta Range (Carrier);\n",
    "* Doppler;\n",
    "* SNR, observation uncertainty, flags;\n",
    "* **HW clocks** that we can use to calculate **Pseudorange/Pseudorange Rate** (code);\n",
    "\n",
    "Apart from the last item, information can be used as it is. This notebook demonstrate how to clalculate pseudoranges by comparing satelite and receiver clocks.\n",
    "\n",
    "The position that we are trying to calculate is based on GNSS (GPS) signal and can be simplified to:\n",
    "\n",
    "<img src=\".\\pics\\Terry_GPS_nav01.jpg\" alt=\"Drawing\" style=\"width: 400px;\"/>\n",
    "\n",
    "* By comparing local and satelite clock user measures distance (corrupted with errors, hence name pseudorange) to at least four satellites;\n",
    "* We obtain/caluclate satellite position and clock corrections (almanach) at the time of transmission either directly from satelite or from internet;\n",
    "* We use this information to solve for our position and **clock error** using iterative LSA (or in more advanced approach EKF)\n",
    "\n",
    "\n",
    "## RAW measurments Workflow\n",
    "\n",
    "* get [time of the week (TOW)](https://www.oc.nps.edu/oc2902w/gps/timsys.html) \n",
    "    -  wait unitl at least one satelite can provide it (watch flags), get it from internet or have prior knowledge of it from phone\n",
    "* start estimating local GPS time at 1s interval\n",
    "    - make sure you have proper time offset between UTC and GPS time if you calculate it yourself\n",
    "    - estimate from measurments\n",
    "    - remeber internal clock runs on GPS and other GNSS systems are just using offsets not intependent time frames (especially watch GLO)\n",
    "* read data from API\n",
    "    * calculate pseudorange (L) as difference between the clocks but as mod(x,ns)\n",
    "    * get all other measurments as they are\n",
    "    * check the flags ect ect\n",
    "* calculate PVT for the user\n",
    "\n",
    "\n",
    "Let's look at the details then.\n",
    "\n",
    "\n",
    "## Get relevant data\n",
    "\n",
    "I am simplifying problem by:\n",
    "\n",
    "* using pre-recorded data\n",
    "* reducting constellation to GPS only, utilising information from [Android GNSS status API](https://developer.android.com/reference/android/location/GnssStatus.html)."
   ]
  },
  {
   "cell_type": "code",
   "execution_count": 3,
   "metadata": {},
   "outputs": [
    {
     "name": "stdout",
     "output_type": "stream",
     "text": [
      "filtering PR from ./sampleData/s8_01.txt\n",
      "Observing the following SVs:2,11,22,6,12,14,24,25,29,31,32,13,16,15,5,23,17,7,8,97\n",
      "using following constelations: Galileo,GPS,GLONASS,BeiDou\n",
      "\n",
      "Observing the following SVs:2,6,12,14,24,25,29,31,32\n",
      "using following constelations: GPS\n",
      "\n"
     ]
    }
   ],
   "source": [
    "# reads GNSSLogger log file into pandas data frame using Google Logger 2.0\n",
    "def readGNSSLogger (data_file):\n",
    "  print(\"filtering PR from %s\" % data_file)\n",
    "  RawMeas = SimpleLineGrep(data_file,'Raw')\n",
    "  # for 7.0 \n",
    "  #colNames = [\"Raw\",\"ElapsedRealtimeMillis\",\"TimeNanos\",\"LeapSecond\",\"TimeUncertaintyNanos\",\"FullBiasNanos\",\"BiasNanos\",\"BiasUncertaintyNanos\",\"DriftNanosPerSecond\",\"DriftUncertaintyNanosPerSecond\",\"HardwareClockDiscontinuityCount\",\"Svid\",\"TimeOffsetNanos\",\"State\",\"ReceivedSvTimeNanos\",\"ReceivedSvTimeUncertaintyNanos\",\"Cn0DbHz\",\"PseudorangeRateMetersPerSecond\",\"PseudorangeRateUncertaintyMetersPerSecond\",\"AccumulatedDeltaRangeState\",\"AccumulatedDeltaRangeMeters\",\"AccumulatedDeltaRangeUncertaintyMeters\",\"CarrierFrequencyHz\",\"CarrierCycles\",\"CarrierPhase\",\"CarrierPhaseUncertainty\",\"MultipathIndicator\",\"SnrInDb\",\"ConstellationType\",\"AgcDb\",\"CarrierFrequencyHz\"]\n",
    "  # for 8.0\n",
    "  # colNames = [\"Raw\",\"ElapsedRealtimeMillis\",\"TimeNanos\",\"LeapSecond\",\"TimeUncertaintyNanos\",\"FullBiasNanos\",\"BiasNanos\",\"BiasUncertaintyNanos\",\"DriftNanosPerSecond\",\"DriftUncertaintyNanosPerSecond\",\"HardwareClockDiscontinuityCount\",\"Svid\",\"TimeOffsetNanos\",\"State\",\"ReceivedSvTimeNanos\",\"ReceivedSvTimeUncertaintyNanos\",\"Cn0DbHz\",\"PseudorangeRateMetersPerSecond\",\"PseudorangeRateUncertaintyMetersPerSecond\",\"AccumulatedDeltaRangeState\",\"AccumulatedDeltaRangeMeters\",\"AccumulatedDeltaRangeUncertaintyMeters\",\"CarrierFrequencyHz\",\"CarrierCycles\",\"CarrierPhase\",\"CarrierPhaseUncertainty\",\"MultipathIndicator\",\"SnrInDb\",\"ConstellationType\",\"AgcDb\",\"CarrierFrequencyHz\"]\n",
    "  colNames = [\"Raw\",\"ElapsedRealtimeMillis\",\"TimeNanos\",\"LeapSecond\",\"TimeUncertaintyNanos\",\"FullBiasNanos\",\"BiasNanos\",\"BiasUncertaintyNanos\",\"DriftNanosPerSecond\",\"DriftUncertaintyNanosPerSecond\",\"HardwareClockDiscontinuityCount\",\"Svid\",\"TimeOffsetNanos\",\"State\",\"ReceivedSvTimeNanos\",\"ReceivedSvTimeUncertaintyNanos\",\"Cn0DbHz\",\"PseudorangeRateMetersPerSecond\",\"PseudorangeRateUncertaintyMetersPerSecond\",\"AccumulatedDeltaRangeState\",\"AccumulatedDeltaRangeMeters\",\"AccumulatedDeltaRangeUncertaintyMeters\",\"CarrierFrequencyHz\",\"CarrierCycles\",\"CarrierPhase\",\"CarrierPhaseUncertainty\",\"MultipathIndicator\",\"SnrInDb\",\"ConstellationType\"]  \n",
    "  dataFrame = pd.read_csv(RawMeas, delimiter = \",\",error_bad_lines=False,header=None,\n",
    "                          usecols=range(1,len(colNames)),names= colNames,\n",
    "                          encoding = 'utf-8-sig',na_values = [\"NULL\",\"\"],engine ='c')\n",
    "  return dataFrame\n",
    "\n",
    "def BasicInfo(AndroidData):\n",
    "\n",
    "  listOfSV = AndroidData.Svid.unique()\n",
    "  listOfConstelations = AndroidData.ConstellationType.unique()\n",
    "  GNSS_Constelations = {1:'GPS',2:'SBAS',3:'GLONASS',4:'QZSS',5:'BeiDou',6:'Galileo'}\n",
    "\n",
    "  print('Observing the following SVs:{}\\nusing following constelations: {}\\n'.format(\n",
    "      ','.join(map(str,listOfSV)),','.join([GNSS_Constelations[s] for s in listOfConstelations])))\n",
    "\n",
    "##################################\n",
    "\n",
    "    \n",
    "data_file = \"./sampleData/s8_01.txt\"\n",
    "df_GNSS = readGNSSLogger(data_file)\n",
    "#cut noisy start of data, I just assume that after that all flags are correct\n",
    "#I should observe flags instead\n",
    "df_GNSS = df_GNSS[1500:] \n",
    "df_GNSS.head()\n",
    "\n",
    "BasicInfo(df_GNSS)\n",
    "#get only GPS\n",
    "df_GPS = df_GNSS[df_GNSS.ConstellationType==1]\n",
    "BasicInfo(df_GPS)"
   ]
  },
  {
   "cell_type": "markdown",
   "metadata": {},
   "source": [
    "## Calculate pseudoranges\n",
    "\n",
    "I am simplifying problem by assuming that all GNSS RAW measurments are being read\n",
    "\n",
    "I will: \n",
    "\n",
    "* estimate TOW from measurments\n",
    "* diff clocks, substract corrections and known TOW to estimate pseudorange in [ns]\n",
    "    1. traditional approach is to diff and to correct for clock drift later\n",
    "    1. Paolo approach is to just diff observations at mod(100milis=$10^{-1}s$) and worry about epochs later. THis approach is especially useful as it can estimate ranges from Galileo `2nd code lock state` (which previous approach can't do).\n",
    "* convert to [m] using GPS defined constant\n",
    "\n",
    "\n",
    "### Pseudorange (L) is:\n",
    "\n",
    "* One-way range (distance) between satellite and receiver\n",
    "* Measurement of time-of-flight of coded signals\n",
    "* time difference between satellite and the receiver\n",
    "\n",
    "Defined as $L = \\frac{T_{receiver \\atop arrival}\n",
    "-T^{satellite \\atop transmission}}{c}$.\n",
    "\n",
    "where\n",
    "\n",
    "* receiver clock [ns] is calculated from `public long getTimeNanos()`\n",
    "* received GNSS satelite time [ns]  is calculated from `public long getReceivedSvTimeNanos()`\n",
    "\n",
    "**To be more precise**\n",
    "\n",
    "* from `GnssMeasurementEvent.Callback` we are obtaining:\n",
    "  * GnssClock\n",
    "    *  +`getTimeNanos()` - receiver (local) internal hardware clock clock [ns], changes of 1 sec\n",
    "+/- 1 msec (~every 15min) every epoch\n",
    "    * -`getFullBiasNanos()` referenced to GPS starting epoch (0000Z, January 6, 1980)\n",
    "    * -`getBiasNanos()` for sub-ns accuracy, usually 0\n",
    "    * -`getTimeOffsetNanos()` estimated hardware related delays\n",
    "  * Collection<GnssMeasurements>\n",
    "    * +`getReceivedSvTimeNanos()` - satellite clock, referenced to GPS Week (TOW)\n",
    "* all values in [ns]\n",
    "* anything within 1ms is considered the same epoch\n",
    "* DriftNanosPerSecond, DriftUncertaintyNanosPerSecond, LeapSecond, TimeUncertaintyNanos are\n",
    "usually not available\n",
    "\n",
    "#### Why use nanoseconds as a unit?\n",
    "\n",
    "A traditional approach defines GPS time as a combination of GPS week and time of the week. This is not possible with AGPS, used in mobile phones, as we obtain ranges (using mobile tower clocks for corrections to local oscillator and internet for ephemerides) before TOW is set. Hence we always need to express pseudoranges as a mix of clocks. To avoid ambiguity, our local clock (in ns) has to be referenced to GPS starting epoch (0000Z, January 6, 1980). This creates a risk of memory/calculation problem, so we are trying to reduce this value (by subtracting current TOW value) before conducting more complex calculations.\n",
    "\n",
    "#### Implementation issues\n",
    "\n",
    "* I am using 64bit floats, might need to use 64bit ints for better calcuation accuracy\n",
    "* This code assumes single frequency, in dual frequency implementation make sure to consider that:\n",
    "    * not every GPS satelite transmit L5\n",
    "    * every Gal satelite transmit E1 and E5, so we need variable for both per satelite"
   ]
  },
  {
   "cell_type": "code",
   "execution_count": 4,
   "metadata": {
    "scrolled": false
   },
   "outputs": [
    {
     "name": "stdout",
     "output_type": "stream",
     "text": [
      "GPS week 1946 \n",
      "1503   66,794,657,563,158.60\n",
      "1504           23,328,151.66\n",
      "1505           20,693,591.72\n",
      "1506           22,875,283.37\n",
      "1507           22,508,375.48\n",
      "1508           20,525,751.12\n",
      "1509           21,997,156.79\n",
      "1510           23,707,396.91\n",
      "1511           22,669,157.47\n",
      "1527   66,794,957,355,541.05\n",
      "dtype: float64\n",
      "\n",
      "\n"
     ]
    },
    {
     "data": {
      "text/plain": [
       "1503   28,522,630.39\n",
       "1504   23,328,151.66\n",
       "1505   20,693,591.72\n",
       "1506   22,875,283.37\n",
       "1507   22,508,375.48\n",
       "1508   20,525,751.12\n",
       "1509   21,997,156.79\n",
       "1510   23,707,396.91\n",
       "1511   22,669,157.47\n",
       "1527   28,522,554.85\n",
       "dtype: float64"
      ]
     },
     "execution_count": 4,
     "metadata": {},
     "output_type": "execute_result"
    }
   ],
   "source": [
    "#we operate in [ns=1e-9] so as [100milisec=decsec=1e-1] [decsec]=1e8[ns]\n",
    "GNSS_const = {'totalWeekSecs':7*24*3600,'lightSpeed':299792458,'ds':1e8\n",
    "             ,'GPSday':24*60*60,'GPSweek':7*24*60*60 } #constants\n",
    "\n",
    "#get TOW\n",
    "GPSWeek = (-df_GPS.FullBiasNanos*1e-9/GNSS_const['totalWeekSecs']).astype('int')\n",
    "print('GPS week {} '.format(GPSWeek.unique()[0])) #get array of 1 which autocast to integer\n",
    "#lazy check to verify that each epoch gives me correct TOW, don't use in working code\n",
    "\n",
    "#calculate tRx and tTx, NOTE df_GPS.FullBiasNanos.iloc[0] is only taken once\n",
    "tRx_ns  = df_GPS.TimeNanos+df_GPS.TimeOffsetNanos-df_GPS.FullBiasNanos.iloc[0]-(GPSWeek*GNSS_const['totalWeekSecs']*1e9)    \n",
    "tTx_ns = df_GPS.ReceivedSvTimeNanos\n",
    "\n",
    "\n",
    "#and now we got two options for PR(L)\n",
    "##1\n",
    "PR_m = (tRx_ns-tTx_ns)*GNSS_const['lightSpeed']*1e-9\n",
    "print(PR_m.head(n=10)) \n",
    "#20-22k km? fist readin is way off, looks like a clock jump or wrong flag \n",
    "\n",
    "##2 - suggested by Paolo\n",
    "PR_m = (tRx_ns % GNSS_const['ds'] - tTx_ns% GNSS_const['ds'])*GNSS_const['lightSpeed']*1e-9\n",
    "print('\\n')\n",
    "PR_m.head(n=10)\n",
    "#20-23k km? First results are not incorrect, but LSA would at least coverge\n",
    "# worth checking flags "
   ]
  },
  {
   "cell_type": "markdown",
   "metadata": {},
   "source": [
    "## estimating epoch of observation\n",
    "\n",
    "We need to estimate epoch time in order to properly decode corrections and orbits. In Google code, they use two values:\n",
    "\n",
    "* `gpsTime` in seconds of the week, with ranges of 0-604800s\n",
    "* `fctSeconds` in seconds since 1980/6/1 0:00:00, with their defined ranges of 0-3786480000s that is until 2100/1/1\n",
    "\n",
    "Traditional GPS approach is `gpsTime` and this is what we are going to use. This is de-facto `tRx_ns` while taking care of the clock drift (go to nearest second)\n",
    "\n",
    "\n",
    "In this example we are ignoring:\n",
    " \n",
    "* conversion to UTC and handling of leap seconds (see `Fct2Ymdhms` in Google code) - we will work in * accomodate for the clock drift logic\n",
    "\n",
    "\n",
    "All RAW measurments, including pseudoranges we just calculated, has to be presented per SV per epoch. We need to:\n",
    "\n",
    "* calculate each epoch (anything within 1ms is considered the same epoch)\n",
    "\t* compute full cycle time of measurement, in milliseconds (see `ReadGnssLogger.m`)\n",
    "* obtain SV range for each epoch per satellite"
   ]
  },
  {
   "cell_type": "code",
   "execution_count": 56,
   "metadata": {},
   "outputs": [],
   "source": [
    "import datetime\n",
    "\n",
    "#UTC_offset as valid for Feb'19\n",
    "def covertGPSTimetoUTC(GPSseconds,GPSWeek,UTC_offset=18):\n",
    "\n",
    "  GPS0 = datetime.datetime(1980, 1, 6)\n",
    "  weekID = datetime.timedelta(weeks =int(GPSWeek))\n",
    "  weekSeconds = datetime.timedelta(seconds = round(GPSseconds)) \n",
    "  #round to nearest due to clock drift\n",
    "  UTC_offset= datetime.timedelta(seconds = UTC_offset) \n",
    "\n",
    "\n",
    "  #so time is\n",
    "  epoch = GPS0 + weekID +  weekSeconds - UTC_offset\n",
    "  return epoch\n"
   ]
  },
  {
   "cell_type": "code",
   "execution_count": 54,
   "metadata": {},
   "outputs": [
    {
     "name": "stdout",
     "output_type": "stream",
     "text": [
      "Our time is corrupted by clock drift so we can't use it directly, for ex:\n",
      "222802.999672\n",
      "222803.999672\n",
      "222804.999672\n",
      "222805.999672\n",
      "222806.999672\n",
      "\n",
      "Instead we want to round our observations to the nearest epoch. This will only work for \n",
      "2.PR generation as we disregard running clock. For the 1. we need to calculate offset and \n",
      "add it to our clocks by hand.\n",
      "\n",
      "To demonstrate 2. approach lets first demonstrate how the observation should be tagged internally,\n",
      "that is in week and seconds of week, that is:\n",
      "\n",
      "1946\t222803\n",
      "1946\t222804\n",
      "1946\t222805\n",
      "1946\t222806\n",
      "1946\t222807\n",
      "\n",
      "\n",
      "For display purpose (user) we present time in UT, that is:\n",
      "2017-04-25 13:53:05\n",
      "2017-04-25 13:53:06\n",
      "2017-04-25 13:53:07\n",
      "2017-04-25 13:53:08\n",
      "2017-04-25 13:53:09\n"
     ]
    }
   ],
   "source": [
    "listOfSV = df_GPS.Svid.unique() #all SV that I see during the period\n",
    "allRxSec = tRx_ns.values*1e-9;\n",
    "GPSepochs=allRxSec[0::len(listOfSV)] #note that values are in floats\n",
    "\n",
    "#so we don't repeat epochs, on normal runs you can just use a tag \n",
    "# from a sigle SV\n",
    "\n",
    "print(\"Our time is corrupted by clock drift so we can't use it directly, for ex:\")\n",
    "for epoch in GPSepochs[:5]:\n",
    "    print(\"{TOW:f}\".format(GPSweek=GPSWeek.values[1] ,TOW=epoch))\n",
    "\n",
    "\n",
    "print('''\n",
    "Instead we want to round our observations to the nearest epoch. This will only work for \n",
    "2.PR generation as we disregard running clock. For the 1. we need to calculate offset and \n",
    "add it to our clocks by hand.\n",
    "\n",
    "To demonstrate 2. approach lets first demonstrate how the observation should be tagged internally,\n",
    "that is in week and seconds of week, that is:\n",
    "''')\n",
    "\n",
    "for epoch in GPSepochs[:5]:\n",
    "    print(\"{GPSweek}\\t{TOW:.0f}\".format(GPSweek=GPSWeek.values[1] ,TOW=epoch))\n",
    "    \n",
    "print(\"\\n\\nFor display purpose (user) we present time in UT, that is:\")\n",
    "for epoch in GPSepochs[:5]:\n",
    "    print(covertGPSTimetoUTC(epoch,GPSWeek.values[1]))"
   ]
  },
  {
   "cell_type": "markdown",
   "metadata": {},
   "source": [
    "And just to visualise L1 pseudoranges per satelite"
   ]
  },
  {
   "cell_type": "code",
   "execution_count": 7,
   "metadata": {
    "scrolled": true
   },
   "outputs": [
    {
     "data": {
      "image/png": "[encoded data removed]",
      "text/plain": [
       "<matplotlib.figure.Figure at 0x8fca1d0>"
      ]
     },
     "metadata": {
      "needs_background": "light"
     },
     "output_type": "display_data"
    }
   ],
   "source": [
    "df_PR =pd.DataFrame({'epoch': allRxSec,'SV_ID': df_GPS.Svid,'PR': PR_m})\n",
    "df_PR =df_PR[df_PR.SV_ID !=2] #remove this SV\n",
    "SV_ranges = df_PR.pivot(index='epoch',columns='SV_ID', values='PR')\n",
    "SV_ranges.plot(figsize=[15,5]);"
   ]
  },
  {
   "cell_type": "markdown",
   "metadata": {},
   "source": [
    "# practical elements\n",
    "\n",
    "\n",
    "Code below dicuss the more advanced aspects of processing. MARCIN- IGNORE FOR NOW\n",
    "\n",
    "## Confirming validity of the data\n",
    "\n",
    "To obtain second level TTFF smartphone GNSSe use measurements long before TOW is decoded using AGPS.  These measurements are considered invalid in traditional GNSS understanding. To confirm with the traditional approach we should only use the ranges with TOW set (1st and 3rd-bit set). For more information check GPS HAL - *gps.h*.\n",
    "To demonstrate this test logic:\n"
   ]
  },
  {
   "cell_type": "code",
   "execution_count": 8,
   "metadata": {
    "scrolled": true
   },
   "outputs": [
    {
     "name": "stdout",
     "output_type": "stream",
     "text": [
      "First let's demonstrate how bitwise operations work. \n",
      "        To set 1st bit(CODE_LOCK)0b00000001, to set 4th bit(TOW_DECODED)0b00001000\n",
      "        To set both we need 0b00001001\n"
     ]
    }
   ],
   "source": [
    "print(\"\"\"First let's demonstrate how bitwise operations work. \n",
    "        To set 1st bit(CODE_LOCK){:#010b}, to set 4th bit(TOW_DECODED){:#010b}\n",
    "        To set both we need {:#010b}\"\"\".\n",
    "      format(1<<0,1<<3,(1<<3) | (1<<0)))"
   ]
  },
  {
   "cell_type": "markdown",
   "metadata": {},
   "source": [
    "Now let's use the same principle to check the flags from the recorded data"
   ]
  },
  {
   "cell_type": "code",
   "execution_count": 9,
   "metadata": {
    "scrolled": false
   },
   "outputs": [
    {
     "name": "stdout",
     "output_type": "stream",
     "text": [
      "\n",
      "Recorded state 1074 can be wrote binary as: 0b10000110010\n",
      "Allowing us to check if TOW flag set: False\n"
     ]
    }
   ],
   "source": [
    "state = df_GNSS.State.iloc[0]\n",
    "print('\\nRecorded state {0} can be wrote binary as: {0:#010b}'.format(state))\n",
    "print('Allowing us to check if TOW flag set: {}'.format((state & (1 << 0))!=0 and (state & (1 << 3))!=0)) "
   ]
  },
  {
   "cell_type": "markdown",
   "metadata": {},
   "source": [
    "## Time accuracy\n",
    "\n",
    "* `getBiasUncertaintyNanos()` for the clock's Bias Uncertainty (1-Sigma) in nanoseconds. Usualy 20ns if fix, or ~$2^{e-9}$ns (2s) before.\n",
    "* `getTimeUncertaintyNanos()` for the hardware clock's time Uncertainty (1-Sigma) in nanoseconds. This tends to be 0.\n"
   ]
  },
  {
   "cell_type": "code",
   "execution_count": 10,
   "metadata": {
    "scrolled": true
   },
   "outputs": [
    {
     "data": {
      "image/png": "[encoded data removed]",
      "text/plain": [
       "<matplotlib.figure.Figure at 0x8fc81d0>"
      ]
     },
     "metadata": {
      "needs_background": "light"
     },
     "output_type": "display_data"
    }
   ],
   "source": [
    "df_GNSS.BiasUncertaintyNanos.plot()\n",
    "plt.ylabel('Bias Uncertainty [ns]');"
   ]
  },
  {
   "cell_type": "markdown",
   "metadata": {},
   "source": [
    "\n",
    "## Problems with the accuracy of calculations\n",
    "\n",
    "Pandas will automaticaly determine best type of variables to use. As discussed before with large numbers we might still end up with calculation errors due to rounding (float point calculation). Example below demonstrate the problem.\n"
   ]
  },
  {
   "cell_type": "code",
   "execution_count": 11,
   "metadata": {},
   "outputs": [
    {
     "name": "stdout",
     "output_type": "stream",
     "text": [
      "ElapsedRealtimeMillis                       int64\n",
      "TimeNanos                                   int64\n",
      "LeapSecond                                float64\n",
      "TimeUncertaintyNanos                      float64\n",
      "FullBiasNanos                               int64\n",
      "BiasNanos                                 float64\n",
      "BiasUncertaintyNanos                      float64\n",
      "DriftNanosPerSecond                       float64\n",
      "DriftUncertaintyNanosPerSecond            float64\n",
      "HardwareClockDiscontinuityCount             int64\n",
      "                                           ...   \n",
      "AccumulatedDeltaRangeState                  int64\n",
      "AccumulatedDeltaRangeMeters               float64\n",
      "AccumulatedDeltaRangeUncertaintyMeters    float64\n",
      "CarrierFrequencyHz                        float64\n",
      "CarrierCycles                             float64\n",
      "CarrierPhase                              float64\n",
      "CarrierPhaseUncertainty                   float64\n",
      "MultipathIndicator                          int64\n",
      "SnrInDb                                   float64\n",
      "ConstellationType                           int64\n",
      "Length: 28, dtype: object\n"
     ]
    }
   ],
   "source": [
    "print(df_GNSS.dtypes)"
   ]
  },
  {
   "cell_type": "code",
   "execution_count": 12,
   "metadata": {},
   "outputs": [],
   "source": [
    "def CheckCalculus(number):\n",
    "\n",
    "  y=number-1\n",
    "  z=number-1+1\n",
    "  print('Checking for floating poing overflow, it should be 1 and 0\\nx-y={:}\\nz-x={:}'.format(number-y,number-z))"
   ]
  },
  {
   "cell_type": "code",
   "execution_count": 13,
   "metadata": {
    "scrolled": true
   },
   "outputs": [
    {
     "name": "stdout",
     "output_type": "stream",
     "text": [
      "Checking for floating poing overflow, it should be 1 and 0\n",
      "x-y=1\n",
      "z-x=0\n",
      "Checking for floating poing overflow, it should be 1 and 0\n",
      "x-y=1\n",
      "z-x=0\n",
      "Checking for floating poing overflow, it should be 1 and 0\n",
      "x-y=0.0\n",
      "z-x=0.0\n",
      "Checking for floating poing overflow, it should be 1 and 0\n",
      "x-y=0.0\n",
      "z-x=0.0\n"
     ]
    }
   ],
   "source": [
    "x=-1151285108458178048\n",
    "CheckCalculus(x)\n",
    "CheckCalculus(x*100000)\n",
    "\n",
    "CheckCalculus(x*1e3) #hidden cast to float\n",
    "CheckCalculus(x*1.0) #float\n",
    "\n",
    "\n",
    "#import decimal as dec\n"
   ]
  },
  {
   "cell_type": "markdown",
   "metadata": {},
   "source": [
    "A careful approach is needed to avoid this calculation problem. Also check those additional resources:\n",
    "\n",
    "* <http://mpmath.org/>"
   ]
  },
  {
   "cell_type": "markdown",
   "metadata": {},
   "source": [
    "# Some helpful links\n",
    "\n",
    "* [Google code](https://github.com/google/gps-measurement-tools) - this is the official code from Google, in Matlab.\n",
    "* [my version of GPS Measurement tools](https://github.com/DfAC/gps-measurement-tools), mostly added notes and small changes simplifying the use of script.\n",
    "* [this repo](https://github.com/DfAC/AndroidGNSS)\n",
    "\n",
    "\n",
    "* [useful comments on pandas](d:\\tmp\\Dropbox\\Edu\\ION_GNSS\\AndroidGNSS\\)\n",
    "* [bitwise operations in python](https://wiki.python.org/moin/BitwiseOperators)\n",
    "* [format string](https://docs.python.org/3/library/string.html)\n",
    "* [format output](https://pyformat.info)\n",
    "* [Rokybun blog](http://rokubun.cat/2016/06/30/android-n-preview-gnss-measurements/)\n",
    "* [BlackDotGNSS blog](http://www.blackdotgnss.com/2016/09/20/ppp-with-smartphones-are-we-there-yet/)\n"
   ]
  }
 ],
 "metadata": {
  "anaconda-cloud": {},
  "kernelspec": {
   "display_name": "Python 3",
   "language": "python",
   "name": "python3"
  },
  "language_info": {
   "codemirror_mode": {
    "name": "ipython",
    "version": 3
   },
   "file_extension": ".py",
   "mimetype": "text/x-python",
   "name": "python",
   "nbconvert_exporter": "python",
   "pygments_lexer": "ipython3",
   "version": "3.6.7"
  }
 },
 "nbformat": 4,
 "nbformat_minor": 1
}
