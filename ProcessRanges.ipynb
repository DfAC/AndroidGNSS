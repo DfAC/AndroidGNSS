{
 "cells": [
  {
   "cell_type": "code",
   "execution_count": 1,
   "metadata": {
    "collapsed": true
   },
   "outputs": [],
   "source": [
    "import pandas as pd\n",
    "#import pylab\n",
    "#import scipy\n",
    "import matplotlib.pyplot as plt\n",
    "import matplotlib #so I can call next line\n",
    "matplotlib.style.use('ggplot')\n",
    "import seaborn as sns\n",
    "import numpy as np\n",
    "\n",
    "#visuals\n",
    "%matplotlib inline\n",
    "pd.options.display.float_format = '{:,.2f}'.format #7,123,001.34\n",
    "#'{:20,.2f}'.format #change pandas display format\n",
    "pd.options.display.max_rows = 20 \n",
    "#pd.get_option(\"display.max_rows\")\n",
    "\n",
    "\n",
    "from __future__ import division #so I can have float as std and int as //"
   ]
  },
  {
   "cell_type": "code",
   "execution_count": 2,
   "metadata": {
    "collapsed": false
   },
   "outputs": [],
   "source": [
    "#in-memory grep implementation, filter lines starting wth filterKeyword\n",
    "#return text string - memory hungry but fast\n",
    "#http://stackoverflow.com/questions/10717504/is-it-possible-to-use-read-csv-to-read-only-specific-lines\n",
    "def SimpleLineGrep(ASCIIfileName,filterKeyword):\n",
    "  from cStringIO import StringIO\n",
    "  s = StringIO()\n",
    "\n",
    "  with open(ASCIIfileName) as f:\n",
    "      for line in f:\n",
    "          if line.startswith(filterKeyword):\n",
    "              s.write(line)\n",
    "  s.seek(0) # \"rewind\" to the beginning of the StringIO object\n",
    "  # slow, test dump implementation\n",
    "  # outFile = open(\"%s/dmp.csv\" % ASCIIfileName[:ASCIIfileName.index('/')], \"w\")\n",
    "  # outFile.write(s.getvalue())\n",
    "  # outFile.close()\n",
    "\n",
    "  return s"
   ]
  },
  {
   "cell_type": "markdown",
   "metadata": {},
   "source": [
    "![](.\\pics\\whereCampLogo.jpg)\n",
    "\n",
    "# GNSS RAW ranges in Android N\n",
    "## Lukasz K Bonenberg\n",
    "\n",
    "\n",
    "This notebook explains how to calculate pseudo-ranges (code measurments) obtainable from the Android API 24+. This python implementation is based on `ProcessGnssMeas.m` Matlab code from [Google GPS Measurement Tools](https://github.com/google/gps-measurement-tools).\n",
    "\n"
   ]
  },
  {
   "cell_type": "markdown",
   "metadata": {},
   "source": [
    "## Loading and reading data\n",
    "\n",
    "Android data read by GNSSLogger output (hardware depending):\n",
    "\n",
    "\n",
    "* Position, Velocity and Time (PVT) solution \n",
    "* ephemeris information\n",
    "* Pseudorange/Pseudorange Rate (code)\n",
    "* Accumulated Delta Range (Carrier)\n",
    "* HW clock\n",
    "* **raw ranges information**\n",
    "\n",
    "For this workshop we will only focus on the last one."
   ]
  },
  {
   "cell_type": "markdown",
   "metadata": {},
   "source": [
    "## GNSS Navigation Concept\n",
    "\n",
    "* User measures distance to four satellites\n",
    "* Satellites transmit their current positions in orbit\n",
    "* User solves for his position and **clock error**\n",
    "\n",
    "<img src=\"https://upload.wikimedia.org/wikipedia/commons/c/c3/Bad_gdop.png\", width=50%,height=60>\n",
    "\n",
    "### Pseudorange is:\n",
    "\n",
    "* One-way range (distance) between satellite and receiver\n",
    "* Measurement of time-of-flight of coded signals\n",
    "* time difference between satellite and the receiver $$L = \\frac{T_{receiver \\atop arrival}\n",
    "-T^{satellite \\atop transmission}}{c}$$."
   ]
  },
  {
   "cell_type": "code",
   "execution_count": 4,
   "metadata": {
    "collapsed": false
   },
   "outputs": [
    {
     "name": "stdout",
     "output_type": "stream",
     "text": [
      "filtering PR from ./sampleData/workshop_trials01.txt\n"
     ]
    },
    {
     "data": {
      "text/html": [
       "<div>\n",
       "<table border=\"1\" class=\"dataframe\">\n",
       "  <thead>\n",
       "    <tr style=\"text-align: right;\">\n",
       "      <th></th>\n",
       "      <th>ElapsedRealtimeMillis</th>\n",
       "      <th>TimeNanos</th>\n",
       "      <th>LeapSecond</th>\n",
       "      <th>TimeUncertaintyNanos</th>\n",
       "      <th>FullBiasNanos</th>\n",
       "      <th>BiasNanos</th>\n",
       "      <th>BiasUncertaintyNanos</th>\n",
       "      <th>DriftNanosPerSecond</th>\n",
       "      <th>DriftUncertaintyNanosPerSecond</th>\n",
       "      <th>HardwareClockDiscontinuityCount</th>\n",
       "      <th>...</th>\n",
       "      <th>AccumulatedDeltaRangeState</th>\n",
       "      <th>AccumulatedDeltaRangeMeters</th>\n",
       "      <th>AccumulatedDeltaRangeUncertaintyMeters</th>\n",
       "      <th>CarrierFrequencyHz</th>\n",
       "      <th>CarrierCycles</th>\n",
       "      <th>CarrierPhase</th>\n",
       "      <th>CarrierPhaseUncertainty</th>\n",
       "      <th>MultipathIndicator</th>\n",
       "      <th>SnrInDb</th>\n",
       "      <th>ConstellationType</th>\n",
       "    </tr>\n",
       "  </thead>\n",
       "  <tbody>\n",
       "    <tr>\n",
       "      <th>0</th>\n",
       "      <td>507489489</td>\n",
       "      <td>570430000000</td>\n",
       "      <td>nan</td>\n",
       "      <td>nan</td>\n",
       "      <td>-1157840705570309508</td>\n",
       "      <td>0.00</td>\n",
       "      <td>13.18</td>\n",
       "      <td>nan</td>\n",
       "      <td>nan</td>\n",
       "      <td>0</td>\n",
       "      <td>...</td>\n",
       "      <td>4</td>\n",
       "      <td>-317,959.91</td>\n",
       "      <td>340,282,346,638,528,897,590,636,046,441,678,635...</td>\n",
       "      <td>nan</td>\n",
       "      <td>nan</td>\n",
       "      <td>nan</td>\n",
       "      <td>nan</td>\n",
       "      <td>0</td>\n",
       "      <td>nan</td>\n",
       "      <td>1</td>\n",
       "    </tr>\n",
       "    <tr>\n",
       "      <th>1</th>\n",
       "      <td>507489489</td>\n",
       "      <td>570430000000</td>\n",
       "      <td>nan</td>\n",
       "      <td>nan</td>\n",
       "      <td>-1157840705570309508</td>\n",
       "      <td>0.00</td>\n",
       "      <td>13.18</td>\n",
       "      <td>nan</td>\n",
       "      <td>nan</td>\n",
       "      <td>0</td>\n",
       "      <td>...</td>\n",
       "      <td>4</td>\n",
       "      <td>80,505.81</td>\n",
       "      <td>340,282,346,638,528,897,590,636,046,441,678,635...</td>\n",
       "      <td>nan</td>\n",
       "      <td>nan</td>\n",
       "      <td>nan</td>\n",
       "      <td>nan</td>\n",
       "      <td>0</td>\n",
       "      <td>nan</td>\n",
       "      <td>1</td>\n",
       "    </tr>\n",
       "    <tr>\n",
       "      <th>2</th>\n",
       "      <td>507489490</td>\n",
       "      <td>570430000000</td>\n",
       "      <td>nan</td>\n",
       "      <td>nan</td>\n",
       "      <td>-1157840705570309508</td>\n",
       "      <td>0.00</td>\n",
       "      <td>13.18</td>\n",
       "      <td>nan</td>\n",
       "      <td>nan</td>\n",
       "      <td>0</td>\n",
       "      <td>...</td>\n",
       "      <td>4</td>\n",
       "      <td>-54,964.58</td>\n",
       "      <td>340,282,346,638,528,897,590,636,046,441,678,635...</td>\n",
       "      <td>nan</td>\n",
       "      <td>nan</td>\n",
       "      <td>nan</td>\n",
       "      <td>nan</td>\n",
       "      <td>0</td>\n",
       "      <td>nan</td>\n",
       "      <td>1</td>\n",
       "    </tr>\n",
       "    <tr>\n",
       "      <th>3</th>\n",
       "      <td>507489490</td>\n",
       "      <td>570430000000</td>\n",
       "      <td>nan</td>\n",
       "      <td>nan</td>\n",
       "      <td>-1157840705570309508</td>\n",
       "      <td>0.00</td>\n",
       "      <td>13.18</td>\n",
       "      <td>nan</td>\n",
       "      <td>nan</td>\n",
       "      <td>0</td>\n",
       "      <td>...</td>\n",
       "      <td>4</td>\n",
       "      <td>53,802.68</td>\n",
       "      <td>340,282,346,638,528,897,590,636,046,441,678,635...</td>\n",
       "      <td>nan</td>\n",
       "      <td>nan</td>\n",
       "      <td>nan</td>\n",
       "      <td>nan</td>\n",
       "      <td>0</td>\n",
       "      <td>nan</td>\n",
       "      <td>1</td>\n",
       "    </tr>\n",
       "    <tr>\n",
       "      <th>4</th>\n",
       "      <td>507489491</td>\n",
       "      <td>570430000000</td>\n",
       "      <td>nan</td>\n",
       "      <td>nan</td>\n",
       "      <td>-1157840705570309508</td>\n",
       "      <td>0.00</td>\n",
       "      <td>13.18</td>\n",
       "      <td>nan</td>\n",
       "      <td>nan</td>\n",
       "      <td>0</td>\n",
       "      <td>...</td>\n",
       "      <td>4</td>\n",
       "      <td>-119,436.73</td>\n",
       "      <td>340,282,346,638,528,897,590,636,046,441,678,635...</td>\n",
       "      <td>nan</td>\n",
       "      <td>nan</td>\n",
       "      <td>nan</td>\n",
       "      <td>nan</td>\n",
       "      <td>0</td>\n",
       "      <td>nan</td>\n",
       "      <td>1</td>\n",
       "    </tr>\n",
       "  </tbody>\n",
       "</table>\n",
       "<p>5 rows × 28 columns</p>\n",
       "</div>"
      ],
      "text/plain": [
       "   ElapsedRealtimeMillis     TimeNanos  LeapSecond  TimeUncertaintyNanos  \\\n",
       "0              507489489  570430000000         nan                   nan   \n",
       "1              507489489  570430000000         nan                   nan   \n",
       "2              507489490  570430000000         nan                   nan   \n",
       "3              507489490  570430000000         nan                   nan   \n",
       "4              507489491  570430000000         nan                   nan   \n",
       "\n",
       "         FullBiasNanos  BiasNanos  BiasUncertaintyNanos  DriftNanosPerSecond  \\\n",
       "0 -1157840705570309508       0.00                 13.18                  nan   \n",
       "1 -1157840705570309508       0.00                 13.18                  nan   \n",
       "2 -1157840705570309508       0.00                 13.18                  nan   \n",
       "3 -1157840705570309508       0.00                 13.18                  nan   \n",
       "4 -1157840705570309508       0.00                 13.18                  nan   \n",
       "\n",
       "   DriftUncertaintyNanosPerSecond  HardwareClockDiscontinuityCount  \\\n",
       "0                             nan                                0   \n",
       "1                             nan                                0   \n",
       "2                             nan                                0   \n",
       "3                             nan                                0   \n",
       "4                             nan                                0   \n",
       "\n",
       "         ...          AccumulatedDeltaRangeState  AccumulatedDeltaRangeMeters  \\\n",
       "0        ...                                   4                  -317,959.91   \n",
       "1        ...                                   4                    80,505.81   \n",
       "2        ...                                   4                   -54,964.58   \n",
       "3        ...                                   4                    53,802.68   \n",
       "4        ...                                   4                  -119,436.73   \n",
       "\n",
       "              AccumulatedDeltaRangeUncertaintyMeters  CarrierFrequencyHz  \\\n",
       "0 340,282,346,638,528,897,590,636,046,441,678,635...                 nan   \n",
       "1 340,282,346,638,528,897,590,636,046,441,678,635...                 nan   \n",
       "2 340,282,346,638,528,897,590,636,046,441,678,635...                 nan   \n",
       "3 340,282,346,638,528,897,590,636,046,441,678,635...                 nan   \n",
       "4 340,282,346,638,528,897,590,636,046,441,678,635...                 nan   \n",
       "\n",
       "   CarrierCycles  CarrierPhase  CarrierPhaseUncertainty  MultipathIndicator  \\\n",
       "0            nan           nan                      nan                   0   \n",
       "1            nan           nan                      nan                   0   \n",
       "2            nan           nan                      nan                   0   \n",
       "3            nan           nan                      nan                   0   \n",
       "4            nan           nan                      nan                   0   \n",
       "\n",
       "   SnrInDb  ConstellationType  \n",
       "0      nan                  1  \n",
       "1      nan                  1  \n",
       "2      nan                  1  \n",
       "3      nan                  1  \n",
       "4      nan                  1  \n",
       "\n",
       "[5 rows x 28 columns]"
      ]
     },
     "execution_count": 4,
     "metadata": {},
     "output_type": "execute_result"
    }
   ],
   "source": [
    "data_file = \"./sampleData/workshop_trials01.txt\"\n",
    "df_GNSS = readGNSSLogger(data_file)\n",
    "\n",
    "df_GNSS.head()"
   ]
  },
  {
   "cell_type": "markdown",
   "metadata": {},
   "source": [
    "## Confirming validity of the data\n",
    "\n",
    "To obtain second level TTFF smartphone GNSSe use measurements long before TOW is decoded using AGPS.  These measurements are considered invalid in traditional GNSS understanding. To confirm with the traditional approach we should only use the ranges with TOW set (1st and 3rd-bit set). For more information check GPS HAL - *gps.h*.\n",
    "To demonstrate this test logic:"
   ]
  },
  {
   "cell_type": "code",
   "execution_count": 3,
   "metadata": {
    "collapsed": true
   },
   "outputs": [],
   "source": [
    "# reads GNSSLogger log file into pandas data frame\n",
    "def readGNSSLogger (data_file):\n",
    "  print(\"filtering PR from %s\" % data_file)\n",
    "  RawMeas = SimpleLineGrep(data_file,'Raw')\n",
    "  colNames = [\"Raw\",\"ElapsedRealtimeMillis\",\"TimeNanos\",\"LeapSecond\",\"TimeUncertaintyNanos\",\"FullBiasNanos\",\"BiasNanos\",\"BiasUncertaintyNanos\",\"DriftNanosPerSecond\",\"DriftUncertaintyNanosPerSecond\",\"HardwareClockDiscontinuityCount\",\"SVid\",\"TimeOffsetNanos\",\"State\",\"ReceivedSvTimeNanos\",\"ReceivedSvTimeUncertaintyNanos\",\"Cn0DbHz\",\"PseudorangeRateMetersPerSecond\",\"PseudorangeRateUncertaintyMetersPerSecond\",\"AccumulatedDeltaRangeState\",\"AccumulatedDeltaRangeMeters\",\"AccumulatedDeltaRangeUncertaintyMeters\",\"CarrierFrequencyHz\",\"CarrierCycles\",\"CarrierPhase\",\"CarrierPhaseUncertainty\",\"MultipathIndicator\",\"SnrInDb\",\"ConstellationType\"]\n",
    "  dataFrame = pd.read_csv(RawMeas, delimiter = \",\",error_bad_lines=False,header=None,usecols=range(1,len(colNames)),\n",
    "                       names= colNames,encoding = 'utf-8-sig',na_values = [\"NULL\",\"\"],engine ='c')\n",
    "\n",
    "  return dataFrame"
   ]
  },
  {
   "cell_type": "code",
   "execution_count": 10,
   "metadata": {
    "collapsed": false,
    "scrolled": true
   },
   "outputs": [
    {
     "name": "stdout",
     "output_type": "stream",
     "text": [
      "First let's demonstrate how bitwise operations work. For example:\n",
      "1st bit0b00000001\n",
      "3rd bit0b00000100\n",
      "\n",
      "Recorded state 47 can be wrote binary as: 0b00101111\n",
      "Allowing us to check if TOW flag set: True\n"
     ]
    }
   ],
   "source": [
    "print \"First let's demonstrate how bitwise operations work. For example:\\n1st bit{:#010b}\\n3rd bit{:#010b}\".format(1<<0,1<<2)\n",
    "#state = 0b00101110\n",
    "\n",
    "state = df_GNSS.State.iloc[0]\n",
    "print '\\nRecorded state {0} can be wrote binary as: {0:#010b}'.format(state)\n",
    "print 'Allowing us to check if TOW flag set: {}'.format((state & (1 << 0))!=0 and (state & (1 << 2))!=0)"
   ]
  },
  {
   "cell_type": "markdown",
   "metadata": {},
   "source": [
    "## Which satellites are we looking at?\n",
    "As an example of Android N API, lets explore [Android GNSS status](https://developer.android.com/reference/android/location/GnssStatus.html)."
   ]
  },
  {
   "cell_type": "code",
   "execution_count": 5,
   "metadata": {
    "collapsed": true
   },
   "outputs": [],
   "source": [
    "def BasicInfo(AndroidData):\n",
    "\n",
    "  listOfSV = df_GNSS.SVid.unique()\n",
    "  listOfConstelations = df_GNSS.ConstellationType.unique()\n",
    "  GNSS_Constelations = {1:'GPS',2:'SBAS',3:'GLONASS',4:'QZSS',5:'BeiDou',6:'Galileo'}\n",
    "\n",
    "  print 'Observing following SVs:{}\\nObserved constelations: {}'.format(\n",
    "      ','.join(map(str,listOfSV)),','.join([GNSS_Constelations[s] for s in listOfConstelations]))"
   ]
  },
  {
   "cell_type": "code",
   "execution_count": 6,
   "metadata": {
    "collapsed": false,
    "scrolled": true
   },
   "outputs": [
    {
     "name": "stdout",
     "output_type": "stream",
     "text": [
      "Observing following SVs:10,13,15,16,18,20,21,26,27,29,93,94,96,97,103,104,105,106\n",
      "Observed constelations: GPS,GLONASS,Galileo\n",
      "\n",
      "For simplicity we will focus on a single constelation.\n",
      "\n",
      "\n",
      "Observing following SVs:10,13,15,16,18,20,21,26,27,29\n",
      "Observed constelations: GPS\n"
     ]
    }
   ],
   "source": [
    "BasicInfo(df_GNSS)\n",
    "\n",
    "print '\\nFor simplicity we will focus on a single constelation.\\n\\n'\n",
    "df_GNSS = df_GNSS[df_GNSS.ConstellationType==1]\n",
    "BasicInfo(df_GNSS)"
   ]
  },
  {
   "cell_type": "markdown",
   "metadata": {},
   "source": [
    "## Calculating pseudoranges\n",
    "\n",
    "$$L = \\frac{T_{receiver \\atop arrival}\n",
    "-T^{satellite \\atop transmission}}{c}$$.\n",
    "\n",
    "* receiver clock [ns] is calculated from `public long getTimeNanos()`\n",
    "* received GNSS satelite time [ns]  is calculated from `public long getReceivedSvTimeNanos()`\n",
    "\n",
    "### In more details:\n",
    "\n",
    "* from `GnssMeasurementEvent.Callback` we are using:\n",
    "  * GnssClock\n",
    "    *  +`getTimeNanos()` - receiver clock\n",
    "    * -`getFullBiasNanos()` referenced to GPS starting epoch (0000Z, January 6, 1980)\n",
    "    * -`getBiasNanos()` for sub-ns accuracy\n",
    "    * -`getTimeOffsetNanos()` for hardware related delays\n",
    "  * Collection<GnssMeasurements>\n",
    "    * +`getReceivedSvTimeNanos()` - satellite clock, ref to GPS Week (TOW)\n",
    "* all values in [ns]\n",
    "* anything within 1ms is considered the same epoch\n",
    "\n",
    "### Why use nanoseconds as a unit?\n",
    "\n",
    "A traditional approach define GPS time as combination of GPS week and time of week. This is not possible with this approach as we obtain ranges before TOW is set. Hence our units are ns referenced to GPS starting epoch (0000Z, January 6, 1980). This creates a risk of memory/calculation problem - it is advisable to reduce this value (by subtracting current TOW value) before conducting more complex calculations."
   ]
  },
  {
   "cell_type": "code",
   "execution_count": 7,
   "metadata": {
    "collapsed": false
   },
   "outputs": [
    {
     "name": "stdout",
     "output_type": "stream",
     "text": [
      "GPS week [1914] \n"
     ]
    },
    {
     "data": {
      "text/plain": [
       "3463   21,040,230.35\n",
       "3464   21,024,196.55\n",
       "3465   23,285,077.18\n",
       "3466   23,388,008.52\n",
       "3467   22,678,508.89\n",
       "dtype: float64"
      ]
     },
     "execution_count": 7,
     "metadata": {},
     "output_type": "execute_result"
    }
   ],
   "source": [
    "GNSS_const = {'totalWeekSecs':7*24*3600,'lightSpeed':299792458} #constants\n",
    "\n",
    "GPSWeek = (-df_GNSS.FullBiasNanos*1e-9/GNSS_const['totalWeekSecs']).astype('int')\n",
    "print 'GPS week {} '.format(GPSWeek.unique())\n",
    "\n",
    "tRx_ns  = df_GNSS.TimeNanos+df_GNSS.TimeOffsetNanos-df_GNSS.FullBiasNanos.iloc[0]-(GPSWeek*GNSS_const['totalWeekSecs']*1e9)   \n",
    "#tRx_ns  = df_GNSS.TimeNanos-df_GNSS.FullBiasNanos-(GPSWeek*GNSS_const['totalWeekSecs']*1e9)  +df_GNSS.TimeOffsetNanos \n",
    "PR_m = (tRx_ns-df_GNSS.ReceivedSvTimeNanos)*GNSS_const['lightSpeed']*1e-9\n",
    "PR_m.tail()"
   ]
  },
  {
   "cell_type": "code",
   "execution_count": 8,
   "metadata": {
    "collapsed": false
   },
   "outputs": [
    {
     "data": {
      "image/png": "[encoded data removed]",
      "text/plain": [
       "<matplotlib.figure.Figure at 0xaed3940>"
      ]
     },
     "metadata": {},
     "output_type": "display_data"
    }
   ],
   "source": [
    "# sp1\n",
    "plt.subplot(121)\n",
    "plt.scatter(tRx_ns,df_GNSS.ReceivedSvTimeNanos,);\n",
    "plt.axis('equal')\n",
    "\n",
    "# sp2\n",
    "plt.subplot(122)\n",
    "plt.boxplot([tRx_ns,df_GNSS.ReceivedSvTimeNanos]);"
   ]
  },
  {
   "cell_type": "markdown",
   "metadata": {
    "collapsed": false
   },
   "source": [
    "### Putting measurments into epochs\n",
    "\n",
    "Values calculated has to be presented per SV per epoch. We need to:\n",
    "\n",
    "* calculate each epoch (anything within 1ms is considered the same epoch)\n",
    "\t* compute full cycle time of measurement, in milliseonds (see `ReadGnssLogger.m`)\n",
    "* obtain SV range for each epoch per satellite\n"
   ]
  },
  {
   "cell_type": "code",
   "execution_count": 48,
   "metadata": {
    "collapsed": false,
    "scrolled": true
   },
   "outputs": [
    {
     "data": {
      "image/png": "[encoded data removed]",
      "text/plain": [
       "<matplotlib.figure.Figure at 0xc22a208>"
      ]
     },
     "metadata": {},
     "output_type": "display_data"
    }
   ],
   "source": [
    "listOfSV = df_GNSS.SVid.unique()\n",
    "allRxSec = (df_GNSS.TimeNanos - df_GNSS.FullBiasNanos)*1e-9;\n",
    "epoch=allRxSec[0::len(listOfSV)]\n",
    "\n",
    "df_PR =pd.DataFrame({'epoch': allRxSec,'SV_ID': df_GNSS.SVid,'PR': PR_m})\n",
    "SV_ranges = df_PR.pivot(index='epoch',columns='SV_ID', values='PR')\n",
    "SV_ranges.plot();"
   ]
  },
  {
   "cell_type": "markdown",
   "metadata": {},
   "source": [
    "## Putting it all together\n",
    "\n",
    "Lets now define all of above as a single function."
   ]
  },
  {
   "cell_type": "code",
   "execution_count": 16,
   "metadata": {
    "collapsed": true
   },
   "outputs": [],
   "source": [
    "def CalculatePseudorange(dataFrame):\n",
    "\n",
    "  GNSS_const = {'totalWeekSecs':7*24*3600,'lightSpeed':299792458} #constants\n",
    "  GPSWeek = (-dataFrame.FullBiasNanos*1e-9/GNSS_const['totalWeekSecs']).astype('int')\n",
    "  print 'GPS week {} '.format(GPSWeek.unique())\n",
    "\n",
    "  tRx_ns  = dataFrame.TimeNanos+dataFrame.TimeOffsetNanos-dataFrame.FullBiasNanos.iloc[0]-(GPSWeek*GNSS_const['totalWeekSecs']*1e9)   \n",
    "  #tRx_ns  = dataFrame.TimeNanos-dataFrame.FullBiasNanos-(GPSWeek*GNSS_const['totalWeekSecs']*1e9)  +dataFrame.TimeOffsetNanos \n",
    "  PR_m = (tRx_ns-dataFrame.ReceivedSvTimeNanos)*GNSS_const['lightSpeed']*1e-9\n",
    "  PR_m.tail()\n",
    "\n",
    "  # get epochs\n",
    "  listOfSV = dataFrame.SVid.unique()\n",
    "  allRxSec = (dataFrame.TimeNanos - dataFrame.FullBiasNanos)*1e-9;\n",
    "  epoch=allRxSec[0::len(listOfSV)] #all epochs, how many obs in data file\n",
    "\n",
    "  #create temp dataframe with ranges only\n",
    "  df_PR =pd.DataFrame({'epoch': allRxSec,'SV_ID': dataFrame.SVid,'PR': PR_m})\n",
    "  # split by columns\n",
    "  df_PRbySV = df_PR.pivot(index='epoch',columns='SV_ID', values='PR')\n",
    "\n",
    "  return df_PRbySV"
   ]
  },
  {
   "cell_type": "code",
   "execution_count": 17,
   "metadata": {
    "collapsed": false
   },
   "outputs": [
    {
     "name": "stdout",
     "output_type": "stream",
     "text": [
      "filtering PR from ./sampleData/workshop_trials01.txt\n",
      "Observing following SVs:10,13,15,16,18,20,21,26,27,29\n",
      "Observed constelations: GPS\n",
      "GPS week [1914] \n"
     ]
    },
    {
     "data": {
      "text/html": [
       "<div>\n",
       "<table border=\"1\" class=\"dataframe\">\n",
       "  <thead>\n",
       "    <tr style=\"text-align: right;\">\n",
       "      <th>SV_ID</th>\n",
       "      <th>10</th>\n",
       "      <th>13</th>\n",
       "      <th>15</th>\n",
       "      <th>16</th>\n",
       "      <th>18</th>\n",
       "      <th>20</th>\n",
       "      <th>21</th>\n",
       "      <th>26</th>\n",
       "      <th>27</th>\n",
       "      <th>29</th>\n",
       "    </tr>\n",
       "    <tr>\n",
       "      <th>epoch</th>\n",
       "      <th></th>\n",
       "      <th></th>\n",
       "      <th></th>\n",
       "      <th></th>\n",
       "      <th></th>\n",
       "      <th></th>\n",
       "      <th></th>\n",
       "      <th></th>\n",
       "      <th></th>\n",
       "      <th></th>\n",
       "    </tr>\n",
       "  </thead>\n",
       "  <tbody>\n",
       "    <tr>\n",
       "      <th>1,157,841,454.00</th>\n",
       "      <td>22,833,498.30</td>\n",
       "      <td>23,066,141.74</td>\n",
       "      <td>21,778,768.47</td>\n",
       "      <td>22,860,600.74</td>\n",
       "      <td>20,768,953.25</td>\n",
       "      <td>21,038,464.27</td>\n",
       "      <td>21,024,091.62</td>\n",
       "      <td>23,283,339.88</td>\n",
       "      <td>23,390,352.60</td>\n",
       "      <td>22,675,889.91</td>\n",
       "    </tr>\n",
       "    <tr>\n",
       "      <th>1,157,841,455.00</th>\n",
       "      <td>22,832,927.79</td>\n",
       "      <td>23,066,338.11</td>\n",
       "      <td>21,778,715.41</td>\n",
       "      <td>22,860,736.24</td>\n",
       "      <td>20,768,753.59</td>\n",
       "      <td>21,038,930.75</td>\n",
       "      <td>21,024,106.31</td>\n",
       "      <td>23,283,759.29</td>\n",
       "      <td>23,389,762.00</td>\n",
       "      <td>22,676,510.18</td>\n",
       "    </tr>\n",
       "    <tr>\n",
       "      <th>1,157,841,456.00</th>\n",
       "      <td>22,832,375.88</td>\n",
       "      <td>23,066,517.98</td>\n",
       "      <td>21,778,653.35</td>\n",
       "      <td>22,860,893.03</td>\n",
       "      <td>20,768,563.52</td>\n",
       "      <td>21,039,334.27</td>\n",
       "      <td>21,024,129.40</td>\n",
       "      <td>23,284,197.89</td>\n",
       "      <td>23,389,149.23</td>\n",
       "      <td>22,677,161.93</td>\n",
       "    </tr>\n",
       "    <tr>\n",
       "      <th>1,157,841,457.00</th>\n",
       "      <td>22,831,819.16</td>\n",
       "      <td>23,066,707.15</td>\n",
       "      <td>21,778,617.38</td>\n",
       "      <td>22,861,038.13</td>\n",
       "      <td>20,768,377.05</td>\n",
       "      <td>21,039,798.95</td>\n",
       "      <td>21,024,165.07</td>\n",
       "      <td>23,284,642.18</td>\n",
       "      <td>23,388,576.03</td>\n",
       "      <td>22,677,849.05</td>\n",
       "    </tr>\n",
       "    <tr>\n",
       "      <th>1,157,841,458.00</th>\n",
       "      <td>22,831,267.84</td>\n",
       "      <td>23,066,892.12</td>\n",
       "      <td>21,778,576.90</td>\n",
       "      <td>22,861,168.24</td>\n",
       "      <td>20,768,186.38</td>\n",
       "      <td>21,040,230.35</td>\n",
       "      <td>21,024,196.55</td>\n",
       "      <td>23,285,077.18</td>\n",
       "      <td>23,388,008.52</td>\n",
       "      <td>22,678,508.89</td>\n",
       "    </tr>\n",
       "  </tbody>\n",
       "</table>\n",
       "</div>"
      ],
      "text/plain": [
       "SV_ID                       10            13            15            16  \\\n",
       "epoch                                                                      \n",
       "1,157,841,454.00 22,833,498.30 23,066,141.74 21,778,768.47 22,860,600.74   \n",
       "1,157,841,455.00 22,832,927.79 23,066,338.11 21,778,715.41 22,860,736.24   \n",
       "1,157,841,456.00 22,832,375.88 23,066,517.98 21,778,653.35 22,860,893.03   \n",
       "1,157,841,457.00 22,831,819.16 23,066,707.15 21,778,617.38 22,861,038.13   \n",
       "1,157,841,458.00 22,831,267.84 23,066,892.12 21,778,576.90 22,861,168.24   \n",
       "\n",
       "SV_ID                       18            20            21            26  \\\n",
       "epoch                                                                      \n",
       "1,157,841,454.00 20,768,953.25 21,038,464.27 21,024,091.62 23,283,339.88   \n",
       "1,157,841,455.00 20,768,753.59 21,038,930.75 21,024,106.31 23,283,759.29   \n",
       "1,157,841,456.00 20,768,563.52 21,039,334.27 21,024,129.40 23,284,197.89   \n",
       "1,157,841,457.00 20,768,377.05 21,039,798.95 21,024,165.07 23,284,642.18   \n",
       "1,157,841,458.00 20,768,186.38 21,040,230.35 21,024,196.55 23,285,077.18   \n",
       "\n",
       "SV_ID                       27            29  \n",
       "epoch                                         \n",
       "1,157,841,454.00 23,390,352.60 22,675,889.91  \n",
       "1,157,841,455.00 23,389,762.00 22,676,510.18  \n",
       "1,157,841,456.00 23,389,149.23 22,677,161.93  \n",
       "1,157,841,457.00 23,388,576.03 22,677,849.05  \n",
       "1,157,841,458.00 23,388,008.52 22,678,508.89  "
      ]
     },
     "execution_count": 17,
     "metadata": {},
     "output_type": "execute_result"
    }
   ],
   "source": [
    "df_GNSS = readGNSSLogger(data_file)\n",
    "df_GNSS = df_GNSS[df_GNSS.ConstellationType==1]\n",
    "BasicInfo(df_GNSS)\n",
    "\n",
    "test = CalculatePseudorange(df_GNSS)\n",
    "test.tail()"
   ]
  },
  {
   "cell_type": "code",
   "execution_count": 58,
   "metadata": {
    "collapsed": false
   },
   "outputs": [
    {
     "data": {
      "text/plain": [
       "Int64Index([10, 13, 15, 16, 18, 20, 21, 26, 27, 29], dtype='int64', name=u'SV_ID')"
      ]
     },
     "execution_count": 58,
     "metadata": {},
     "output_type": "execute_result"
    }
   ],
   "source": [
    "test.columns"
   ]
  },
  {
   "cell_type": "code",
   "execution_count": 18,
   "metadata": {
    "collapsed": false,
    "scrolled": true
   },
   "outputs": [
    {
     "data": {
      "image/png": "[encoded data removed]",
      "text/plain": [
       "<matplotlib.figure.Figure at 0xc99b6d8>"
      ]
     },
     "metadata": {},
     "output_type": "display_data"
    }
   ],
   "source": [
    "test.plot();"
   ]
  },
  {
   "cell_type": "markdown",
   "metadata": {},
   "source": [
    "## Time accuracy\n",
    "\n",
    "* 'getBiasUncertaintyNanos()' for the clock's Bias Uncertainty (1-Sigma) in nanoseconds. Usualy 20ns if fix, or ~$2^{e-9}$ns (2s) before.\n",
    "* 'getTimeUncertaintyNanos()'for the hardware clock's time Uncertainty (1-Sigma) in nanoseconds. This tends to be 0.\n"
   ]
  },
  {
   "cell_type": "code",
   "execution_count": 19,
   "metadata": {
    "collapsed": false,
    "scrolled": true
   },
   "outputs": [
    {
     "data": {
      "image/png": "[encoded data removed]",
      "text/plain": [
       "<matplotlib.figure.Figure at 0xcb84c88>"
      ]
     },
     "metadata": {},
     "output_type": "display_data"
    }
   ],
   "source": [
    "df_GNSS.BiasUncertaintyNanos.plot()\n",
    "plt.ylabel('Bias Uncertainty [ns]');"
   ]
  },
  {
   "cell_type": "markdown",
   "metadata": {},
   "source": [
    "## Using Galileo\n"
   ]
  },
  {
   "cell_type": "code",
   "execution_count": 20,
   "metadata": {
    "collapsed": false,
    "scrolled": false
   },
   "outputs": [
    {
     "name": "stdout",
     "output_type": "stream",
     "text": [
      "filtering PR from ./sampleData/workshop_trials01.txt\n",
      "Observing following SVs:26\n",
      "Observed constelations: Galileo\n",
      "GPS week [1914] \n"
     ]
    },
    {
     "data": {
      "text/plain": [
       "<matplotlib.axes._subplots.AxesSubplot at 0xccfd278>"
      ]
     },
     "execution_count": 20,
     "metadata": {},
     "output_type": "execute_result"
    },
    {
     "data": {
      "image/png": "[encoded data removed]",
      "text/plain": [
       "<matplotlib.figure.Figure at 0xcb91630>"
      ]
     },
     "metadata": {},
     "output_type": "display_data"
    }
   ],
   "source": [
    "df_GNSS = readGNSSLogger(data_file)\n",
    "df_GNSS = df_GNSS[df_GNSS.ConstellationType==6]\n",
    "BasicInfo(df_GNSS)\n",
    "\n",
    "dfGAL = CalculatePseudorange(df_GNSS)\n",
    "dfGAL.plot();"
   ]
  },
  {
   "cell_type": "markdown",
   "metadata": {},
   "source": [
    "Galileo ranges include 0s, which need to be filtered. This example demonstrate that extra checks need to put in place to avoid strange results.\n",
    "\n",
    "## Problems with the accuracy of calculations\n",
    "\n",
    "Pandas will automaticaly determine best type of variables to use. As discussed before with large numbers we might still end up with calculation errors due to rounding (float point calculation). Example below demonstrate the problem.\n"
   ]
  },
  {
   "cell_type": "code",
   "execution_count": 21,
   "metadata": {
    "collapsed": false
   },
   "outputs": [
    {
     "name": "stdout",
     "output_type": "stream",
     "text": [
      "ElapsedRealtimeMillis                       int64\n",
      "TimeNanos                                   int64\n",
      "LeapSecond                                float64\n",
      "TimeUncertaintyNanos                      float64\n",
      "FullBiasNanos                               int64\n",
      "BiasNanos                                 float64\n",
      "BiasUncertaintyNanos                      float64\n",
      "DriftNanosPerSecond                       float64\n",
      "DriftUncertaintyNanosPerSecond            float64\n",
      "HardwareClockDiscontinuityCount             int64\n",
      "                                           ...   \n",
      "AccumulatedDeltaRangeState                  int64\n",
      "AccumulatedDeltaRangeMeters               float64\n",
      "AccumulatedDeltaRangeUncertaintyMeters    float64\n",
      "CarrierFrequencyHz                        float64\n",
      "CarrierCycles                             float64\n",
      "CarrierPhase                              float64\n",
      "CarrierPhaseUncertainty                   float64\n",
      "MultipathIndicator                          int64\n",
      "SnrInDb                                   float64\n",
      "ConstellationType                           int64\n",
      "dtype: object\n"
     ]
    }
   ],
   "source": [
    "print df_GNSS.dtypes"
   ]
  },
  {
   "cell_type": "code",
   "execution_count": 22,
   "metadata": {
    "collapsed": true
   },
   "outputs": [],
   "source": [
    "def CheckCalculus(number):\n",
    "\n",
    "  y=number-1\n",
    "  z=number-1+1\n",
    "  print 'x-y={:}\\nz-x={:}'.format(x-y,x-z)"
   ]
  },
  {
   "cell_type": "code",
   "execution_count": 23,
   "metadata": {
    "collapsed": false,
    "scrolled": true
   },
   "outputs": [
    {
     "name": "stdout",
     "output_type": "stream",
     "text": [
      "x-y=1\n",
      "z-x=0\n",
      "x-y=1.15128510846e+118\n",
      "z-x=1.15128510846e+118\n"
     ]
    }
   ],
   "source": [
    "x=-1151285108458178048\n",
    "CheckCalculus(x)\n",
    "CheckCalculus(x*1e100)"
   ]
  },
  {
   "cell_type": "markdown",
   "metadata": {},
   "source": [
    "A careful approach is needed to avoid this calculation problem. Also check those additional resources:\n",
    "\n",
    "* <http://mpmath.org/>"
   ]
  },
  {
   "cell_type": "markdown",
   "metadata": {},
   "source": [
    "# Some helpful links\n",
    "\n",
    "* [Google code](https://github.com/google/gps-measurement-tools) - this is the official code. Check here in case of any doubt. This code is in Matlab.\n",
    "* [my version of GPS Measurement tools](https://github.com/DfAC/gps-measurement-tools), mostly added notes and small changes simplifying the use of script.\n",
    "* [this repo](https://github.com/DfAC/AndroidGNSS)\n",
    "\n",
    "\n",
    "* [useful comments on pandas](d:\\tmp\\Dropbox\\Edu\\ION_GNSS\\AndroidGNSS\\)\n",
    "* [bitwise operations in python](https://wiki.python.org/moin/BitwiseOperators)\n",
    "* [format string](https://docs.python.org/3/library/string.html)\n",
    "* [format output](https://pyformat.info)\n",
    "* [Rokybun blog](http://rokubun.cat/2016/06/30/android-n-preview-gnss-measurements/)\n",
    "* [BlackDotGNSS blog](http://www.blackdotgnss.com/2016/09/20/ppp-with-smartphones-are-we-there-yet/)\n"
   ]
  }
 ],
 "metadata": {
  "anaconda-cloud": {},
  "kernelspec": {
   "display_name": "Python [default]",
   "language": "python",
   "name": "python2"
  },
  "language_info": {
   "codemirror_mode": {
    "name": "ipython",
    "version": 2
   },
   "file_extension": ".py",
   "mimetype": "text/x-python",
   "name": "python",
   "nbconvert_exporter": "python",
   "pygments_lexer": "ipython2",
   "version": "2.7.12"
  }
 },
 "nbformat": 4,
 "nbformat_minor": 1
}
