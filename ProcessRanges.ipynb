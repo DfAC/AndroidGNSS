{
 "cells": [
  {
   "cell_type": "code",
   "execution_count": null,
   "metadata": {
    "deletable": true,
    "editable": true
   },
   "outputs": [],
   "source": [
    "import pandas as pd\n",
    "#import pylab\n",
    "#import scipy\n",
    "import matplotlib.pyplot as plt\n",
    "import matplotlib #so I can call next line\n",
    "matplotlib.style.use('ggplot')\n",
    "import seaborn as sns\n",
    "import numpy as np\n",
    "\n",
    "#visuals\n",
    "%matplotlib inline\n",
    "pd.options.display.float_format = '{:,.2f}'.format #7,123,001.34\n",
    "#'{:20,.2f}'.format #change pandas display format\n",
    "pd.options.display.max_rows = 20 \n",
    "#pd.get_option(\"display.max_rows\")\n",
    "\n",
    "\n",
    "from __future__ import division #so I can have float as std and int as //"
   ]
  },
  {
   "cell_type": "code",
   "execution_count": null,
   "metadata": {
    "deletable": true,
    "editable": true
   },
   "outputs": [],
   "source": [
    "#in-memory grep implementation, filter lines starting wth filterKeyword\n",
    "#return text string - memory hungry but fast\n",
    "#http://stackoverflow.com/questions/10717504/is-it-possible-to-use-read-csv-to-read-only-specific-lines\n",
    "def SimpleLineGrep(ASCIIfileName,filterKeyword):\n",
    "  from cStringIO import StringIO\n",
    "  s = StringIO()\n",
    "\n",
    "  with open(ASCIIfileName) as f:\n",
    "      for line in f:\n",
    "          if line.startswith(filterKeyword):\n",
    "              s.write(line)\n",
    "  s.seek(0) # \"rewind\" to the beginning of the StringIO object\n",
    "  # slow, test dump implementation\n",
    "  # outFile = open(\"%s/dmp.csv\" % ASCIIfileName[:ASCIIfileName.index('/')], \"w\")\n",
    "  # outFile.write(s.getvalue())\n",
    "  # outFile.close()\n",
    "\n",
    "  return s"
   ]
  },
  {
   "cell_type": "markdown",
   "metadata": {
    "deletable": true,
    "editable": true
   },
   "source": [
    "![](.\\pics\\2ndHackLogo.jpg)\n",
    "\n",
    "# GNSS RAW ranges in Android N\n",
    "## Lukasz K Bonenberg\n",
    "\n",
    "\n",
    "This notebook explains how to calculate pseudo-ranges (code measurments) obtainable from the Android API 24+. This is partial implementation is based on `ProcessGnssMeas.m` Matlab code from [Google GPS Measurement Tools](https://github.com/google/gps-measurement-tools).\n",
    "\n"
   ]
  },
  {
   "cell_type": "markdown",
   "metadata": {
    "deletable": true,
    "editable": true
   },
   "source": [
    "## Loading and reading data\n",
    "\n",
    "Android data read by GNSSLogger output (hardware depending):\n",
    "\n",
    "\n",
    "* Position, Velocity and Time (PVT) solution \n",
    "* ephemeris information\n",
    "* Pseudorange/Pseudorange Rate (code)\n",
    "* Accumulated Delta Range (Carrier)\n",
    "* HW clock\n",
    "* **raw ranges information**\n",
    "\n",
    "For this workshop we will only focus on the last one."
   ]
  },
  {
   "cell_type": "markdown",
   "metadata": {
    "deletable": true,
    "editable": true
   },
   "source": [
    "## GNSS Navigation Concept\n",
    "\n",
    "* User measures distance to four satellites\n",
    "* Satellites transmit their current positions in orbit\n",
    "* User solves for his position and **clock error**\n",
    "\n",
    "<img src=\"https://upload.wikimedia.org/wikipedia/commons/c/c3/Bad_gdop.png\", width=50%,height=60>\n",
    "\n",
    "### Pseudorange is:\n",
    "\n",
    "* One-way range (distance) between satellite and receiver\n",
    "* Measurement of time-of-flight of coded signals\n",
    "* time difference between satellite and the receiver $$L = \\frac{T_{receiver \\atop arrival}\n",
    "-T^{satellite \\atop transmission}}{c}$$."
   ]
  },
  {
   "cell_type": "code",
   "execution_count": null,
   "metadata": {
    "deletable": true,
    "editable": true
   },
   "outputs": [],
   "source": [
    "# reads GNSSLogger log file into pandas data frame\n",
    "def readGNSSLogger (data_file):\n",
    "  print(\"filtering PR from %s\" % data_file)\n",
    "  RawMeas = SimpleLineGrep(data_file,'Raw')\n",
    "  colNames = [\"Raw\",\"ElapsedRealtimeMillis\",\"TimeNanos\",\"LeapSecond\",\"TimeUncertaintyNanos\",\"FullBiasNanos\",\"BiasNanos\",\"BiasUncertaintyNanos\",\"DriftNanosPerSecond\",\"DriftUncertaintyNanosPerSecond\",\"HardwareClockDiscontinuityCount\",\"SVid\",\"TimeOffsetNanos\",\"State\",\"ReceivedSvTimeNanos\",\"ReceivedSvTimeUncertaintyNanos\",\"Cn0DbHz\",\"PseudorangeRateMetersPerSecond\",\"PseudorangeRateUncertaintyMetersPerSecond\",\"AccumulatedDeltaRangeState\",\"AccumulatedDeltaRangeMeters\",\"AccumulatedDeltaRangeUncertaintyMeters\",\"CarrierFrequencyHz\",\"CarrierCycles\",\"CarrierPhase\",\"CarrierPhaseUncertainty\",\"MultipathIndicator\",\"SnrInDb\",\"ConstellationType\"]\n",
    "  dataFrame = pd.read_csv(RawMeas, delimiter = \",\",error_bad_lines=False,header=None,usecols=range(1,len(colNames)),\n",
    "                       names= colNames,encoding = 'utf-8-sig',na_values = [\"NULL\",\"\"],engine ='c')\n",
    "\n",
    "  return dataFrame"
   ]
  },
  {
   "cell_type": "code",
   "execution_count": null,
   "metadata": {
    "deletable": true,
    "editable": true
   },
   "outputs": [],
   "source": [
    "data_file = \"./sampleData/S8_01.txt\"\n",
    "df_GNSS = readGNSSLogger(data_file)\n",
    "\n",
    "df_GNSS.head()"
   ]
  },
  {
   "cell_type": "markdown",
   "metadata": {
    "deletable": true,
    "editable": true
   },
   "source": [
    "## Confirming validity of the data\n",
    "\n",
    "To obtain second level TTFF smartphone GNSSe use measurements long before TOW is decoded using AGPS.  These measurements are considered invalid in traditional GNSS understanding. To conform to the traditional approach we should only use the ranges with (1st and 3rd-bit set) indicating that [TOW is set](https://developer.android.com/reference/android/location/GnssMeasurement.html#getReceivedSvTimeNanos()). Detailed code can be checked in [GPS HAL file `gps.h`](https://github.com/android/platform_hardware_libhardware/blob/master/include/hardware/gps.h) and quick intro to [bit flags is here](http://www.icare.univ-lille1.fr/wiki/index.php/How_to_decode_bit_flags)."
   ]
  },
  {
   "cell_type": "code",
   "execution_count": null,
   "metadata": {},
   "outputs": [],
   "source": [
    "#note that those are only basic flags \n",
    "statusFlags = {'CODE_LOCK'      : (1<<0),\n",
    "'BIT_SYNC'       : (1<<1),\n",
    "'SUBFRAME_SYNC'  : (1<<2),\n",
    "'TOW_DECODED'    : (1<<3),\n",
    "'MSEC_AMBIGUOUS' : (1<<4)}\n",
    "\n",
    "#decode binary flags\n",
    "def ShowBinaryFlags(currentGNSSstate):\n",
    "    binRepresentation = '{0:14b}'.format(int(currentGNSSstate))\n",
    "    return binRepresentation\n",
    "\n",
    "#check if measurments are valid, that is CODE_LOCK and TOW_DECODED is set\n",
    "def IsObservationValid(currentGNSSstate):\n",
    "    #    #return (currentGNSSstate & (1 << 0))!=0 and (currentGNSSstate & (1 << 2))!=0\n",
    "    return (currentGNSSstate & statusFlags['CODE_LOCK'])!=0 and (currentGNSSstate & statusFlags['TOW_DECODED'])!=0\n",
    "\n",
    "#list all active flags\n",
    "def ListActiveFlags(currentGNSSstate):\n",
    "\n",
    "    activeFlags = list({k for k,v in statusFlags.items() \n",
    "                        if (currentGNSSstate & v !=0)})\n",
    "    return activeFlags\n"
   ]
  },
  {
   "cell_type": "code",
   "execution_count": null,
   "metadata": {
    "deletable": true,
    "editable": true
   },
   "outputs": [],
   "source": [
    "state = df_GNSS.State.iloc[0]\n",
    "print \"\"\"\n",
    "First let's discuss how bitwise operations work. As an example let set \n",
    "'STATE_CODE_LOCK' flag by setting first bit = {0:06b}\n",
    "and then lets set 'STATE_CODE_LOCK' flag using 4th bit {1:06b}. \n",
    "Great, let's now check how does it work with our data - our first recorded\n",
    "state is {2} that is binary {2:012b} so following flags {3} are active.\n",
    "\"\"\".format(1<<0,(1<<0) | (1<<3),state,ListActiveFlags(state))\n",
    "\n",
    "validityOfData= map(lambda x:IsObservationValid(x),df_GNSS.State)\n",
    "allGALILEOflags = map(lambda x:ShowBinaryFlags(x),df_GNSS[df_GNSS.ConstellationType==6].State)"
   ]
  },
  {
   "cell_type": "code",
   "execution_count": null,
   "metadata": {},
   "outputs": [],
   "source": [
    "df_GAL = df_GNSS[df_GNSS.ConstellationType==6]\n",
    "df_GAL = df_GAL[180:] \n",
    "#GAL got diff flags, so I will shortcut a bit\n",
    "df_GPS = df_GNSS[validityOfData] #remove invalid data\n",
    "df_GPS = df_GPS[df_GPS.ConstellationType==1] "
   ]
  },
  {
   "cell_type": "markdown",
   "metadata": {
    "deletable": true,
    "editable": true
   },
   "source": [
    "## Which satellites are we looking at?\n",
    "As an example of Android N API, lets explore [Android GNSS status](https://developer.android.com/reference/android/location/GnssStatus.html)."
   ]
  },
  {
   "cell_type": "code",
   "execution_count": null,
   "metadata": {
    "deletable": true,
    "editable": true
   },
   "outputs": [],
   "source": [
    "def BasicInfo(AndroidData):\n",
    "\n",
    "  listOfSV = AndroidData.SVid.unique()\n",
    "  listOfConstelations = AndroidData.ConstellationType.unique()\n",
    "  GNSS_Constelations = {1:'GPS',2:'SBAS',3:'GLONASS',4:'QZSS',5:'BeiDou',6:'Galileo'}\n",
    "\n",
    "  print 'Observing following SVs:{}\\nObserved constelations: {}'.format(\n",
    "      ','.join(map(str,listOfSV)),','.join([GNSS_Constelations[s] for s in listOfConstelations]))"
   ]
  },
  {
   "cell_type": "code",
   "execution_count": null,
   "metadata": {
    "deletable": true,
    "editable": true
   },
   "outputs": [],
   "source": [
    "BasicInfo(df_GNSS)\n",
    "\n",
    "df_GAL = df_GNSS[df_GNSS.ConstellationType==6]\n",
    "BasicInfo(df_GAL)\n",
    "BasicInfo(df_GPS)"
   ]
  },
  {
   "cell_type": "markdown",
   "metadata": {
    "deletable": true,
    "editable": true
   },
   "source": [
    "## Calculating pseudoranges\n",
    "\n",
    "$$L = \\frac{T_{receiver \\atop arrival}\n",
    "-T^{satellite \\atop transmission}}{c}$$.\n",
    "\n",
    "* receiver clock $T_{receiver \\atop arrival}$[ns] is calculated from `public long getTimeNanos()`\n",
    "* received GNSS satelite time $T^{satellite \\atop transmission}$[ns]  is calculated from `public long getReceivedSvTimeNanos()`\n",
    "\n",
    "### In more details:\n",
    "\n",
    "* from `GnssMeasurementEvent.Callback` we are using:\n",
    "  * to caclulate receiver clock $T_{receiver \\atop arrival}$[ns] GnssClock\n",
    "    *  +`getTimeNanos()` - receiver clock\n",
    "    * -`getFullBiasNanos(1)` referenced to GPS starting epoch (0000Z, January 6, 1980), note that we only take first epoch\n",
    "    * -`getBiasNanos(1)` for sub-ns accuracy\n",
    "    * -`getTimeOffsetNanos()` for hardware related delays\n",
    "  * to get satelite clock reading we extract from  \"Collection<GnssMeasurements>\"\n",
    "    * +`getReceivedSvTimeNanos()` - satellite clock, ref to GPS Week (TOW)\n",
    "* all values in [ns]\n",
    "* anything within 1ms is considered the same epoch\n",
    "\n",
    "### Why use nanoseconds as a unit?\n",
    "\n",
    "A traditional approach define GPS time as combination of GPS week and time of week. This is not possible with this approach as we obtain ranges before TOW is set. Hence our units are ns referenced to GPS starting epoch (0000Z, January 6, 1980). This creates a risk of memory/calculation problem - it is advisable to reduce this value (by subtracting current TOW value) before conducting more complex calculations."
   ]
  },
  {
   "cell_type": "code",
   "execution_count": null,
   "metadata": {
    "deletable": true,
    "editable": true
   },
   "outputs": [],
   "source": [
    "GNSS_const = {'totalWeekSecs':7*24*3600,'lightSpeed':299792458} #constants\n",
    "\n",
    "GPSWeek = (-df_GPS.FullBiasNanos*1e-9/GNSS_const['totalWeekSecs']).astype('int')\n",
    "print 'GPS week {} '.format(GPSWeek.unique())\n",
    "\n",
    "tRx_ns  = df_GPS.TimeNanos+df_GPS.TimeOffsetNanos-df_GPS.FullBiasNanos.iloc[0]-(GPSWeek*GNSS_const['totalWeekSecs']*1e9)   \n",
    "#tRx_ns  = df_GPS.TimeNanos-df_GPS.FullBiasNanos-(GPSWeek*GNSS_const['totalWeekSecs']*1e9)  +df_GPS.TimeOffsetNanos \n",
    "PR_m = (tRx_ns-df_GPS.ReceivedSvTimeNanos)*GNSS_const['lightSpeed']*1e-9\n",
    "PR_m.tail()"
   ]
  },
  {
   "cell_type": "code",
   "execution_count": null,
   "metadata": {},
   "outputs": [],
   "source": [
    "df_GPS.ReceivedSvTimeNanos.plot(title='GPS');\n",
    "#df_GAL.ReceivedSvTimeNanos.plot()"
   ]
  },
  {
   "cell_type": "code",
   "execution_count": null,
   "metadata": {
    "deletable": true,
    "editable": true
   },
   "outputs": [],
   "source": [
    "# sp1\n",
    "plt.title = 'Compare Clocks'\n",
    "plt.subplot(121)\n",
    "plt.scatter(tRx_ns,df_GPS.ReceivedSvTimeNanos,);\n",
    "plt.axis('equal')\n",
    "\n",
    "# sp2\n",
    "plt.subplot(122)\n",
    "plt.boxplot([tRx_ns,df_GPS.ReceivedSvTimeNanos]);\n"
   ]
  },
  {
   "cell_type": "markdown",
   "metadata": {
    "deletable": true,
    "editable": true
   },
   "source": [
    "### Putting measurments into epochs\n",
    "\n",
    "Values calculated has to be presented per SV per epoch. We need to:\n",
    "\n",
    "* calculate each epoch (anything within 1ms is considered the same epoch)\n",
    "\t* compute full cycle time of measurement, in milliseonds (see `ReadGnssLogger.m`)\n",
    "* obtain SV range for each epoch per satellite\n"
   ]
  },
  {
   "cell_type": "code",
   "execution_count": null,
   "metadata": {
    "deletable": true,
    "editable": true
   },
   "outputs": [],
   "source": [
    "listOfSV = df_GPS.SVid.unique()\n",
    "allRxSec = (df_GPS.TimeNanos - df_GPS.FullBiasNanos)*1e-9;\n",
    "epoch=allRxSec[0::len(listOfSV)]\n",
    "\n",
    "df_PR =pd.DataFrame({'epoch': allRxSec,'SV_ID': df_GPS.SVid,'PR': PR_m})\n",
    "SV_ranges = df_PR.pivot(index='epoch',columns='SV_ID', values='PR')\n",
    "SV_ranges.plot(title='GPS PR');"
   ]
  },
  {
   "cell_type": "markdown",
   "metadata": {
    "deletable": true,
    "editable": true
   },
   "source": [
    "## Putting it all together\n",
    "\n",
    "Lets now define all of above as a single function."
   ]
  },
  {
   "cell_type": "code",
   "execution_count": null,
   "metadata": {
    "deletable": true,
    "editable": true
   },
   "outputs": [],
   "source": [
    "def CalculatePseudorange(dataFrame):\n",
    "\n",
    "  GNSS_const = {'totalWeekSecs':7*24*3600,'lightSpeed':299792458} #constants\n",
    "  GPSWeek = (-dataFrame.FullBiasNanos*1e-9/GNSS_const['totalWeekSecs']).astype('int')\n",
    "  print 'GPS week {} '.format(GPSWeek.unique())\n",
    "\n",
    "  tRx_ns  = dataFrame.TimeNanos+dataFrame.TimeOffsetNanos-dataFrame.FullBiasNanos.iloc[0]-(GPSWeek*GNSS_const['totalWeekSecs']*1e9)   \n",
    "  #tRx_ns  = dataFrame.TimeNanos-dataFrame.FullBiasNanos-(GPSWeek*GNSS_const['totalWeekSecs']*1e9)  +dataFrame.TimeOffsetNanos \n",
    "  PR_m = (tRx_ns-dataFrame.ReceivedSvTimeNanos)*GNSS_const['lightSpeed']*1e-9\n",
    "  PR_m.tail()\n",
    "\n",
    "  # get epochs\n",
    "  listOfSV = dataFrame.SVid.unique()\n",
    "  allRxSec = (dataFrame.TimeNanos - dataFrame.FullBiasNanos)*1e-9;\n",
    "  epoch=allRxSec[0::len(listOfSV)] #all epochs, how many obs in data file\n",
    "\n",
    "  #create temp dataframe with ranges only\n",
    "  df_PR =pd.DataFrame({'epoch': allRxSec,'SV_ID': dataFrame.SVid,'PR': PR_m,'ClockBias': dataFrame.BiasUncertaintyNanos})\n",
    "  # split by columns\n",
    "  df_PRbySV = df_PR.pivot(index='epoch',columns='SV_ID', values='PR')\n",
    "\n",
    "  return df_PRbySV,df_PR"
   ]
  },
  {
   "cell_type": "code",
   "execution_count": null,
   "metadata": {
    "deletable": true,
    "editable": true
   },
   "outputs": [],
   "source": [
    "df_GNSS = readGNSSLogger(data_file)\n",
    "validityOfData= map(lambda x:IsObservationValid(x),df_GNSS.State)\n",
    "df_GPS = df_GNSS[validityOfData] #remove invalid data\n",
    "df_GPS = df_GPS[df_GPS.ConstellationType==1] \n",
    "\n",
    "GPS_PR,allData = CalculatePseudorange(df_GPS)\n",
    "GPS_PR.tail()"
   ]
  },
  {
   "cell_type": "code",
   "execution_count": null,
   "metadata": {
    "deletable": true,
    "editable": true
   },
   "outputs": [],
   "source": [
    "GPS_PR.plot();"
   ]
  },
  {
   "cell_type": "markdown",
   "metadata": {
    "deletable": true,
    "editable": true
   },
   "source": [
    "## Time accuracy\n",
    "\n",
    "* 'getBiasUncertaintyNanos()' for the clock's Bias Uncertainty (1-Sigma) in nanoseconds. Usualy 20ns if fix, or ~$2^{e-9}$ns (2s) before.\n",
    "* 'getTimeUncertaintyNanos()'for the hardware clock's time Uncertainty (1-Sigma) in nanoseconds. This tends to be 0.\n"
   ]
  },
  {
   "cell_type": "code",
   "execution_count": null,
   "metadata": {},
   "outputs": [],
   "source": [
    "first_SV = allData[allData.SV_ID==2]\n",
    "second_SV = allData[allData.SV_ID==24]\n",
    "plt.plot(first_SV.epoch,first_SV.ClockBias);"
   ]
  },
  {
   "cell_type": "code",
   "execution_count": null,
   "metadata": {},
   "outputs": [],
   "source": [
    "plt.plot(second_SV.epoch,second_SV.ClockBias);"
   ]
  },
  {
   "cell_type": "markdown",
   "metadata": {
    "deletable": true,
    "editable": true
   },
   "source": [
    "## Using Galileo\n"
   ]
  },
  {
   "cell_type": "code",
   "execution_count": null,
   "metadata": {
    "deletable": true,
    "editable": true
   },
   "outputs": [],
   "source": [
    "df_GNSS = readGNSSLogger(data_file)\n",
    "dfGAL = df_GNSS[df_GNSS.ConstellationType==6][380:]\n",
    "BasicInfo(dfGAL)\n",
    "\n",
    "dfGAL,allData = CalculatePseudorange(dfGAL)\n",
    "dfGAL.plot();"
   ]
  },
  {
   "cell_type": "markdown",
   "metadata": {
    "deletable": true,
    "editable": true
   },
   "source": [
    "\n",
    "## Problems with the accuracy of calculations\n",
    "\n",
    "Pandas will automaticaly determine best type of variables to use. As discussed before with large numbers we might still end up with calculation errors due to rounding (float point calculation). Example below demonstrate the problem.\n"
   ]
  },
  {
   "cell_type": "code",
   "execution_count": null,
   "metadata": {
    "deletable": true,
    "editable": true
   },
   "outputs": [],
   "source": [
    "print df_GNSS.dtypes"
   ]
  },
  {
   "cell_type": "code",
   "execution_count": null,
   "metadata": {
    "deletable": true,
    "editable": true
   },
   "outputs": [],
   "source": [
    "def CheckCalculus(number):\n",
    "\n",
    "  y=number-1\n",
    "  z=number-1+1\n",
    "  print 'x-y={:}\\nz-x={:}'.format(x-y,x-z)"
   ]
  },
  {
   "cell_type": "code",
   "execution_count": null,
   "metadata": {
    "deletable": true,
    "editable": true
   },
   "outputs": [],
   "source": [
    "x=-1151285108458178048\n",
    "CheckCalculus(x)\n",
    "CheckCalculus(x*1e100)"
   ]
  },
  {
   "cell_type": "markdown",
   "metadata": {
    "deletable": true,
    "editable": true
   },
   "source": [
    "A careful approach is needed to avoid this calculation problem. Also check those additional resources:\n",
    "\n",
    "* <http://mpmath.org/>"
   ]
  },
  {
   "cell_type": "markdown",
   "metadata": {
    "deletable": true,
    "editable": true
   },
   "source": [
    "# Some helpful links\n",
    "\n",
    "* [Google code](https://github.com/google/gps-measurement-tools) - this is the official code. Check here in case of any doubt. This code is in Matlab.\n",
    "* [my version of GPS Measurement tools](https://github.com/DfAC/gps-measurement-tools), mostly added notes and small changes simplifying the use of script.\n",
    "* [this repo](https://github.com/DfAC/AndroidGNSS)\n",
    "\n",
    "\n",
    "* [useful comments on pandas](d:\\tmp\\Dropbox\\Edu\\ION_GNSS\\AndroidGNSS\\)\n",
    "* [bitwise operations in python](https://wiki.python.org/moin/BitwiseOperators)\n",
    "* [format string](https://docs.python.org/3/library/string.html)\n",
    "* [format output](https://pyformat.info)\n",
    "* [Rokybun blog](http://rokubun.cat/2016/06/30/android-n-preview-gnss-measurements/)\n",
    "* [BlackDotGNSS blog](http://www.blackdotgnss.com/2016/09/20/ppp-with-smartphones-are-we-there-yet/)\n"
   ]
  }
 ],
 "metadata": {
  "anaconda-cloud": {},
  "kernelspec": {
   "display_name": "Python [default]",
   "language": "python",
   "name": "python2"
  },
  "language_info": {
   "codemirror_mode": {
    "name": "ipython",
    "version": 2
   },
   "file_extension": ".py",
   "mimetype": "text/x-python",
   "name": "python",
   "nbconvert_exporter": "python",
   "pygments_lexer": "ipython2",
   "version": "2.7.12"
  }
 },
 "nbformat": 4,
 "nbformat_minor": 1
}
