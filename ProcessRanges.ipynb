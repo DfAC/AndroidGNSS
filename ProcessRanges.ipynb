{
 "cells": [
  {
   "cell_type": "code",
   "execution_count": 18,
   "metadata": {},
   "outputs": [],
   "source": [
    "import pandas as pd\n",
    "#import pylab\n",
    "#import scipy\n",
    "import matplotlib.pyplot as plt\n",
    "import matplotlib #so I can call next line\n",
    "matplotlib.style.use('ggplot')\n",
    "import seaborn as sns\n",
    "import numpy as np\n",
    "\n",
    "#visuals\n",
    "%matplotlib inline\n",
    "pd.options.display.float_format = '{:,.2f}'.format #7,123,001.34\n",
    "#'{:20,.2f}'.format #change pandas display format\n",
    "pd.options.display.max_rows = 20 \n",
    "#pd.get_option(\"display.max_rows\")\n",
    "\n",
    "\n",
    "from __future__ import division #so I can have float as std and int as //"
   ]
  },
  {
   "cell_type": "code",
   "execution_count": 19,
   "metadata": {},
   "outputs": [],
   "source": [
    "#in-memory grep implementation, filter lines starting wth filterKeyword\n",
    "#return text string - memory hungry but fast\n",
    "#http://stackoverflow.com/questions/10717504/is-it-possible-to-use-read-csv-to-read-only-specific-lines\n",
    "def SimpleLineGrep(ASCIIfileName,filterKeyword):\n",
    "  try:\n",
    "    from StringIO import StringIO\n",
    "  except ImportError:\n",
    "    from io import StringIO\n",
    "  s = StringIO()\n",
    "\n",
    "  with open(ASCIIfileName) as f:\n",
    "      for line in f:\n",
    "          if line.startswith(filterKeyword):\n",
    "              s.write(line)\n",
    "  s.seek(0) # \"rewind\" to the beginning of the StringIO object\n",
    "\n",
    "  return s"
   ]
  },
  {
   "cell_type": "markdown",
   "metadata": {},
   "source": [
    "![](.\\pics\\GRACE_UoN.png)\n",
    "\n",
    "\n",
    "# GNSS RAW ranges in Android N\n",
    "## Lukasz K Bonenberg\n",
    "\n",
    "\n",
    "This notebook explains how to calculate pseudo-ranges (code measurments) obtainable from the Android API 24+. This is python implementation of `ProcessGnssMeas.m` Matlab routine from [Google's GPS Measurement Tools](https://github.com/google/gps-measurement-tools)."
   ]
  },
  {
   "cell_type": "markdown",
   "metadata": {},
   "source": [
    "## Loading and reading data\n",
    "\n",
    "Android data read by GNSSLogger output (hardware depending):\n",
    "\n",
    "\n",
    "* Position, Velocity and Time (PVT) solution; \n",
    "* ephemeris information;\n",
    "* Accumulated Delta Range (Carrier);\n",
    "* Doppler, SNR, observation uncertainty, flags;\n",
    "* **HW clocks** that we can use to calculate **Pseudorange/Pseudorange Rate** (code)\n",
    "\n",
    "For this workshop we will only focus on the last one."
   ]
  },
  {
   "cell_type": "markdown",
   "metadata": {},
   "source": [
    "![](.\\pics\\Terry_GPS_nav01.jpg)\n",
    "\n",
    "## GNSS Navigation Concept\n",
    "\n",
    "* User measures distance to four satellites\n",
    "* Satellites transmit their current positions in orbit\n",
    "* User solves for his position and **clock error**\n",
    "\n",
    "\n",
    "### Pseudorange is:\n",
    "\n",
    "* One-way range (distance) between satellite and receiver\n",
    "* Measurement of time-of-flight of coded signals\n",
    "* time difference between satellite and the receiver $$L = \\frac{T_{receiver \\atop arrival}\n",
    "-T^{satellite \\atop transmission}}{c}$$."
   ]
  },
  {
   "cell_type": "markdown",
   "metadata": {},
   "source": [
    "## Confirming validity of the data\n",
    "\n",
    "To obtain second level TTFF smartphone GNSSe use measurements long before TOW is decoded using AGPS.  These measurements are considered invalid in traditional GNSS understanding. To confirm with the traditional approach we should only use the ranges with TOW set (1st and 3rd-bit set). For more information check GPS HAL - *gps.h*.\n",
    "To demonstrate this test logic:"
   ]
  },
  {
   "cell_type": "code",
   "execution_count": 3,
   "metadata": {},
   "outputs": [],
   "source": [
    "# reads GNSSLogger log file into pandas data frame using Google Logger 2.0\n",
    "def readGNSSLogger (data_file):\n",
    "  print(\"filtering PR from %s\" % data_file)\n",
    "  RawMeas = SimpleLineGrep(data_file,'Raw')\n",
    "  # for 7.0 \n",
    "  #colNames = [\"Raw\",\"ElapsedRealtimeMillis\",\"TimeNanos\",\"LeapSecond\",\"TimeUncertaintyNanos\",\"FullBiasNanos\",\"BiasNanos\",\"BiasUncertaintyNanos\",\"DriftNanosPerSecond\",\"DriftUncertaintyNanosPerSecond\",\"HardwareClockDiscontinuityCount\",\"Svid\",\"TimeOffsetNanos\",\"State\",\"ReceivedSvTimeNanos\",\"ReceivedSvTimeUncertaintyNanos\",\"Cn0DbHz\",\"PseudorangeRateMetersPerSecond\",\"PseudorangeRateUncertaintyMetersPerSecond\",\"AccumulatedDeltaRangeState\",\"AccumulatedDeltaRangeMeters\",\"AccumulatedDeltaRangeUncertaintyMeters\",\"CarrierFrequencyHz\",\"CarrierCycles\",\"CarrierPhase\",\"CarrierPhaseUncertainty\",\"MultipathIndicator\",\"SnrInDb\",\"ConstellationType\",\"AgcDb\",\"CarrierFrequencyHz\"]\n",
    "  # for 8.0\n",
    "  # colNames = [\"Raw\",\"ElapsedRealtimeMillis\",\"TimeNanos\",\"LeapSecond\",\"TimeUncertaintyNanos\",\"FullBiasNanos\",\"BiasNanos\",\"BiasUncertaintyNanos\",\"DriftNanosPerSecond\",\"DriftUncertaintyNanosPerSecond\",\"HardwareClockDiscontinuityCount\",\"Svid\",\"TimeOffsetNanos\",\"State\",\"ReceivedSvTimeNanos\",\"ReceivedSvTimeUncertaintyNanos\",\"Cn0DbHz\",\"PseudorangeRateMetersPerSecond\",\"PseudorangeRateUncertaintyMetersPerSecond\",\"AccumulatedDeltaRangeState\",\"AccumulatedDeltaRangeMeters\",\"AccumulatedDeltaRangeUncertaintyMeters\",\"CarrierFrequencyHz\",\"CarrierCycles\",\"CarrierPhase\",\"CarrierPhaseUncertainty\",\"MultipathIndicator\",\"SnrInDb\",\"ConstellationType\",\"AgcDb\",\"CarrierFrequencyHz\"]\n",
    "  colNames = [\"Raw\",\"ElapsedRealtimeMillis\",\"TimeNanos\",\"LeapSecond\",\"TimeUncertaintyNanos\",\"FullBiasNanos\",\"BiasNanos\",\"BiasUncertaintyNanos\",\"DriftNanosPerSecond\",\"DriftUncertaintyNanosPerSecond\",\"HardwareClockDiscontinuityCount\",\"Svid\",\"TimeOffsetNanos\",\"State\",\"ReceivedSvTimeNanos\",\"ReceivedSvTimeUncertaintyNanos\",\"Cn0DbHz\",\"PseudorangeRateMetersPerSecond\",\"PseudorangeRateUncertaintyMetersPerSecond\",\"AccumulatedDeltaRangeState\",\"AccumulatedDeltaRangeMeters\",\"AccumulatedDeltaRangeUncertaintyMeters\",\"CarrierFrequencyHz\",\"CarrierCycles\",\"CarrierPhase\",\"CarrierPhaseUncertainty\",\"MultipathIndicator\",\"SnrInDb\",\"ConstellationType\"]  \n",
    "  dataFrame = pd.read_csv(RawMeas, delimiter = \",\",error_bad_lines=False,header=None,\n",
    "                          usecols=range(1,len(colNames)),names= colNames,\n",
    "                          encoding = 'utf-8-sig',na_values = [\"NULL\",\"\"],engine ='c')\n",
    "  return dataFrame"
   ]
  },
  {
   "cell_type": "code",
   "execution_count": 20,
   "metadata": {},
   "outputs": [
    {
     "name": "stdout",
     "output_type": "stream",
     "text": [
      "filtering PR from ./sampleData/s8_01.txt\n"
     ]
    },
    {
     "data": {
      "text/html": [
       "<div>\n",
       "<style scoped>\n",
       "    .dataframe tbody tr th:only-of-type {\n",
       "        vertical-align: middle;\n",
       "    }\n",
       "\n",
       "    .dataframe tbody tr th {\n",
       "        vertical-align: top;\n",
       "    }\n",
       "\n",
       "    .dataframe thead th {\n",
       "        text-align: right;\n",
       "    }\n",
       "</style>\n",
       "<table border=\"1\" class=\"dataframe\">\n",
       "  <thead>\n",
       "    <tr style=\"text-align: right;\">\n",
       "      <th></th>\n",
       "      <th>ElapsedRealtimeMillis</th>\n",
       "      <th>TimeNanos</th>\n",
       "      <th>LeapSecond</th>\n",
       "      <th>TimeUncertaintyNanos</th>\n",
       "      <th>FullBiasNanos</th>\n",
       "      <th>BiasNanos</th>\n",
       "      <th>BiasUncertaintyNanos</th>\n",
       "      <th>DriftNanosPerSecond</th>\n",
       "      <th>DriftUncertaintyNanosPerSecond</th>\n",
       "      <th>HardwareClockDiscontinuityCount</th>\n",
       "      <th>...</th>\n",
       "      <th>AccumulatedDeltaRangeState</th>\n",
       "      <th>AccumulatedDeltaRangeMeters</th>\n",
       "      <th>AccumulatedDeltaRangeUncertaintyMeters</th>\n",
       "      <th>CarrierFrequencyHz</th>\n",
       "      <th>CarrierCycles</th>\n",
       "      <th>CarrierPhase</th>\n",
       "      <th>CarrierPhaseUncertainty</th>\n",
       "      <th>MultipathIndicator</th>\n",
       "      <th>SnrInDb</th>\n",
       "      <th>ConstellationType</th>\n",
       "    </tr>\n",
       "  </thead>\n",
       "  <tbody>\n",
       "    <tr>\n",
       "      <th>1500</th>\n",
       "      <td>93839103</td>\n",
       "      <td>109516000000</td>\n",
       "      <td>nan</td>\n",
       "      <td>nan</td>\n",
       "      <td>-1177163492483672228</td>\n",
       "      <td>0.00</td>\n",
       "      <td>7.00</td>\n",
       "      <td>nan</td>\n",
       "      <td>nan</td>\n",
       "      <td>0</td>\n",
       "      <td>...</td>\n",
       "      <td>4</td>\n",
       "      <td>23,164.20</td>\n",
       "      <td>340,282,346,638,528,897,590,636,046,441,678,635...</td>\n",
       "      <td>nan</td>\n",
       "      <td>nan</td>\n",
       "      <td>nan</td>\n",
       "      <td>nan</td>\n",
       "      <td>0</td>\n",
       "      <td>nan</td>\n",
       "      <td>6</td>\n",
       "    </tr>\n",
       "    <tr>\n",
       "      <th>1501</th>\n",
       "      <td>93839103</td>\n",
       "      <td>109516000000</td>\n",
       "      <td>nan</td>\n",
       "      <td>nan</td>\n",
       "      <td>-1177163492483672228</td>\n",
       "      <td>0.00</td>\n",
       "      <td>7.00</td>\n",
       "      <td>nan</td>\n",
       "      <td>nan</td>\n",
       "      <td>0</td>\n",
       "      <td>...</td>\n",
       "      <td>1</td>\n",
       "      <td>55,813.99</td>\n",
       "      <td>0.00</td>\n",
       "      <td>nan</td>\n",
       "      <td>nan</td>\n",
       "      <td>nan</td>\n",
       "      <td>nan</td>\n",
       "      <td>0</td>\n",
       "      <td>nan</td>\n",
       "      <td>6</td>\n",
       "    </tr>\n",
       "    <tr>\n",
       "      <th>1502</th>\n",
       "      <td>93839104</td>\n",
       "      <td>109516000000</td>\n",
       "      <td>nan</td>\n",
       "      <td>nan</td>\n",
       "      <td>-1177163492483672228</td>\n",
       "      <td>0.00</td>\n",
       "      <td>7.00</td>\n",
       "      <td>nan</td>\n",
       "      <td>nan</td>\n",
       "      <td>0</td>\n",
       "      <td>...</td>\n",
       "      <td>4</td>\n",
       "      <td>-25,195.18</td>\n",
       "      <td>340,282,346,638,528,897,590,636,046,441,678,635...</td>\n",
       "      <td>nan</td>\n",
       "      <td>nan</td>\n",
       "      <td>nan</td>\n",
       "      <td>nan</td>\n",
       "      <td>1</td>\n",
       "      <td>nan</td>\n",
       "      <td>6</td>\n",
       "    </tr>\n",
       "    <tr>\n",
       "      <th>1503</th>\n",
       "      <td>93840078</td>\n",
       "      <td>110516000000</td>\n",
       "      <td>nan</td>\n",
       "      <td>nan</td>\n",
       "      <td>-1177163492483671792</td>\n",
       "      <td>0.00</td>\n",
       "      <td>6.98</td>\n",
       "      <td>nan</td>\n",
       "      <td>nan</td>\n",
       "      <td>0</td>\n",
       "      <td>...</td>\n",
       "      <td>1</td>\n",
       "      <td>-6,514.31</td>\n",
       "      <td>0.00</td>\n",
       "      <td>nan</td>\n",
       "      <td>nan</td>\n",
       "      <td>nan</td>\n",
       "      <td>nan</td>\n",
       "      <td>0</td>\n",
       "      <td>nan</td>\n",
       "      <td>1</td>\n",
       "    </tr>\n",
       "    <tr>\n",
       "      <th>1504</th>\n",
       "      <td>93840079</td>\n",
       "      <td>110516000000</td>\n",
       "      <td>nan</td>\n",
       "      <td>nan</td>\n",
       "      <td>-1177163492483671792</td>\n",
       "      <td>0.00</td>\n",
       "      <td>6.98</td>\n",
       "      <td>nan</td>\n",
       "      <td>nan</td>\n",
       "      <td>0</td>\n",
       "      <td>...</td>\n",
       "      <td>1</td>\n",
       "      <td>39,288.17</td>\n",
       "      <td>0.00</td>\n",
       "      <td>nan</td>\n",
       "      <td>nan</td>\n",
       "      <td>nan</td>\n",
       "      <td>nan</td>\n",
       "      <td>0</td>\n",
       "      <td>nan</td>\n",
       "      <td>1</td>\n",
       "    </tr>\n",
       "  </tbody>\n",
       "</table>\n",
       "<p>5 rows × 28 columns</p>\n",
       "</div>"
      ],
      "text/plain": [
       "      ElapsedRealtimeMillis     TimeNanos  LeapSecond  TimeUncertaintyNanos  \\\n",
       "1500               93839103  109516000000         nan                   nan   \n",
       "1501               93839103  109516000000         nan                   nan   \n",
       "1502               93839104  109516000000         nan                   nan   \n",
       "1503               93840078  110516000000         nan                   nan   \n",
       "1504               93840079  110516000000         nan                   nan   \n",
       "\n",
       "            FullBiasNanos  BiasNanos  BiasUncertaintyNanos  \\\n",
       "1500 -1177163492483672228       0.00                  7.00   \n",
       "1501 -1177163492483672228       0.00                  7.00   \n",
       "1502 -1177163492483672228       0.00                  7.00   \n",
       "1503 -1177163492483671792       0.00                  6.98   \n",
       "1504 -1177163492483671792       0.00                  6.98   \n",
       "\n",
       "      DriftNanosPerSecond  DriftUncertaintyNanosPerSecond  \\\n",
       "1500                  nan                             nan   \n",
       "1501                  nan                             nan   \n",
       "1502                  nan                             nan   \n",
       "1503                  nan                             nan   \n",
       "1504                  nan                             nan   \n",
       "\n",
       "      HardwareClockDiscontinuityCount        ...          \\\n",
       "1500                                0        ...           \n",
       "1501                                0        ...           \n",
       "1502                                0        ...           \n",
       "1503                                0        ...           \n",
       "1504                                0        ...           \n",
       "\n",
       "      AccumulatedDeltaRangeState  AccumulatedDeltaRangeMeters  \\\n",
       "1500                           4                    23,164.20   \n",
       "1501                           1                    55,813.99   \n",
       "1502                           4                   -25,195.18   \n",
       "1503                           1                    -6,514.31   \n",
       "1504                           1                    39,288.17   \n",
       "\n",
       "                 AccumulatedDeltaRangeUncertaintyMeters  CarrierFrequencyHz  \\\n",
       "1500 340,282,346,638,528,897,590,636,046,441,678,635...                 nan   \n",
       "1501                                               0.00                 nan   \n",
       "1502 340,282,346,638,528,897,590,636,046,441,678,635...                 nan   \n",
       "1503                                               0.00                 nan   \n",
       "1504                                               0.00                 nan   \n",
       "\n",
       "      CarrierCycles  CarrierPhase  CarrierPhaseUncertainty  \\\n",
       "1500            nan           nan                      nan   \n",
       "1501            nan           nan                      nan   \n",
       "1502            nan           nan                      nan   \n",
       "1503            nan           nan                      nan   \n",
       "1504            nan           nan                      nan   \n",
       "\n",
       "      MultipathIndicator  SnrInDb  ConstellationType  \n",
       "1500                   0      nan                  6  \n",
       "1501                   0      nan                  6  \n",
       "1502                   1      nan                  6  \n",
       "1503                   0      nan                  1  \n",
       "1504                   0      nan                  1  \n",
       "\n",
       "[5 rows x 28 columns]"
      ]
     },
     "execution_count": 20,
     "metadata": {},
     "output_type": "execute_result"
    }
   ],
   "source": [
    "data_file = \"./sampleData/s8_01.txt\"\n",
    "df_GNSS = readGNSSLogger(data_file)\n",
    "\n",
    "df_GNSS = df_GNSS[1500:] #cut noisy start of data -> this is for my S8 data\n",
    "df_GNSS.head()\n"
   ]
  },
  {
   "cell_type": "code",
   "execution_count": 21,
   "metadata": {
    "scrolled": true
   },
   "outputs": [
    {
     "name": "stdout",
     "output_type": "stream",
     "text": [
      "First let's demonstrate how bitwise operations work. \n",
      "        To set 1st bit(CODE_LOCK)0b00000001, to set 4th bit(TOW_DECODED)0b00001000\n",
      "        To set both we need 0b00001001\n"
     ]
    }
   ],
   "source": [
    "print(\"\"\"First let's demonstrate how bitwise operations work. \n",
    "        To set 1st bit(CODE_LOCK){:#010b}, to set 4th bit(TOW_DECODED){:#010b}\n",
    "        To set both we need {:#010b}\"\"\".\n",
    "      format(1<<0,1<<3,(1<<3) | (1<<0)))"
   ]
  },
  {
   "cell_type": "markdown",
   "metadata": {},
   "source": [
    "Now let's use the same principle to check the flags from the recorded data"
   ]
  },
  {
   "cell_type": "code",
   "execution_count": 6,
   "metadata": {
    "scrolled": true
   },
   "outputs": [
    {
     "name": "stdout",
     "output_type": "stream",
     "text": [
      "\n",
      "Recorded state 17 can be wrote binary as: 0b00010001\n",
      "Allowing us to check if TOW flag set: False\n"
     ]
    }
   ],
   "source": [
    "state = df_GNSS.State.iloc[0]\n",
    "print('\\nRecorded state {0} can be wrote binary as: {0:#010b}'.format(state))\n",
    "print('Allowing us to check if TOW flag set: {}'.format((state & (1 << 0))!=0 and (state & (1 << 3))!=0)) "
   ]
  },
  {
   "cell_type": "markdown",
   "metadata": {},
   "source": [
    "## Which satellites are we looking at?\n",
    "As an example of Android N API, lets explore [Android GNSS status](https://developer.android.com/reference/android/location/GnssStatus.html)."
   ]
  },
  {
   "cell_type": "code",
   "execution_count": 7,
   "metadata": {},
   "outputs": [],
   "source": [
    "def BasicInfo(AndroidData):\n",
    "\n",
    "  listOfSV = AndroidData.Svid.unique()\n",
    "  listOfConstelations = AndroidData.ConstellationType.unique()\n",
    "  GNSS_Constelations = {1:'GPS',2:'SBAS',3:'GLONASS',4:'QZSS',5:'BeiDou',6:'Galileo'}\n",
    "\n",
    "  print('Observing following SVs:{}\\nObserved constelations: {}'.format(\n",
    "      ','.join(map(str,listOfSV)),','.join([GNSS_Constelations[s] for s in listOfConstelations])))"
   ]
  },
  {
   "cell_type": "code",
   "execution_count": 22,
   "metadata": {
    "scrolled": false
   },
   "outputs": [
    {
     "name": "stdout",
     "output_type": "stream",
     "text": [
      "Observing following SVs:2,11,22,6,12,14,24,25,29,31,32,13,16,15,5,23,17,7,8,97\n",
      "Observed constelations: Galileo,GPS,GLONASS,BeiDou\n"
     ]
    }
   ],
   "source": [
    "BasicInfo(df_GNSS)"
   ]
  },
  {
   "cell_type": "markdown",
   "metadata": {},
   "source": [
    "Let's now extract GPS satelites only"
   ]
  },
  {
   "cell_type": "code",
   "execution_count": 23,
   "metadata": {
    "scrolled": true
   },
   "outputs": [
    {
     "name": "stdout",
     "output_type": "stream",
     "text": [
      "Observing following SVs:2,6,12,14,24,25,29,31,32\n",
      "Observed constelations: GPS\n"
     ]
    }
   ],
   "source": [
    "df_oneConstelation = df_GNSS[df_GNSS.ConstellationType==1]\n",
    "BasicInfo(df_oneConstelation)"
   ]
  },
  {
   "cell_type": "markdown",
   "metadata": {},
   "source": [
    "## Calculating pseudoranges\n",
    "\n",
    "$$L = \\frac{T_{receiver \\atop arrival}\n",
    "-T^{satellite \\atop transmission}}{c}$$.\n",
    "\n",
    "* receiver clock [ns] is calculated from `public long getTimeNanos()`\n",
    "* received GNSS satelite time [ns]  is calculated from `public long getReceivedSvTimeNanos()`\n",
    "\n",
    "### In more details:\n",
    "\n",
    "* from `GnssMeasurementEvent.Callback` we are obtaining:\n",
    "  * GnssClock\n",
    "    *  +`getTimeNanos()` - receiver (local) clock\n",
    "    * -`getFullBiasNanos()` referenced to GPS starting epoch (0000Z, January 6, 1980)\n",
    "    * -`getBiasNanos()` for sub-ns accuracy\n",
    "    * -`getTimeOffsetNanos()` estimated hardware related delays\n",
    "  * Collection<GnssMeasurements>\n",
    "    * +`getReceivedSvTimeNanos()` - satellite clock, referenced to GPS Week (TOW)\n",
    "* all values in [ns]\n",
    "* anything within 1ms is considered the same epoch\n",
    "\n",
    "### Why use nanoseconds as a unit?\n",
    "\n",
    "A traditional approach define GPS time as combination of GPS week and time of week. This is not possible with this approach as we obtain ranges before TOW is set. Hence our units are ns referenced to GPS starting epoch (0000Z, January 6, 1980). This creates a risk of memory/calculation problem - it is advisable to reduce this value (by subtracting current TOW value) before conducting more complex calculations."
   ]
  },
  {
   "cell_type": "code",
   "execution_count": 28,
   "metadata": {},
   "outputs": [
    {
     "name": "stdout",
     "output_type": "stream",
     "text": [
      "GPS week 1946 \n"
     ]
    },
    {
     "data": {
      "text/plain": [
       "6959   22,677,124.15\n",
       "6960   20,512,645.39\n",
       "6961   21,895,417.12\n",
       "6962   23,598,963.18\n",
       "6963   22,756,438.75\n",
       "dtype: float64"
      ]
     },
     "execution_count": 28,
     "metadata": {},
     "output_type": "execute_result"
    }
   ],
   "source": [
    "GNSS_const = {'totalWeekSecs':7*24*3600,'lightSpeed':299792458} #constants\n",
    "\n",
    "\n",
    "#start working on a single constelation, lazy hack\n",
    "df_GNSS = df_oneConstelation\n",
    "\n",
    "GPSWeek = (-df_GNSS.FullBiasNanos*1e-9/GNSS_const['totalWeekSecs']).astype('int')\n",
    "print('GPS week {} '.format(GPSWeek.unique()[0]))\n",
    "\n",
    "tRx_ns  = df_GNSS.TimeNanos+df_GNSS.TimeOffsetNanos-df_GNSS.FullBiasNanos.iloc[0]-(GPSWeek*GNSS_const['totalWeekSecs']*1e9)    \n",
    "PR_m = (tRx_ns-df_GNSS.ReceivedSvTimeNanos)*GNSS_const['lightSpeed']*1e-9\n",
    "PR_m.tail()"
   ]
  },
  {
   "cell_type": "markdown",
   "metadata": {},
   "source": [
    "### Putting measurments into epochs\n",
    "\n",
    "Values calculated has to be presented per SV per epoch. We need to:\n",
    "\n",
    "* calculate each epoch (anything within 1ms is considered the same epoch)\n",
    "\t* compute full cycle time of measurement, in milliseconds (see `ReadGnssLogger.m`)\n",
    "* obtain SV range for each epoch per satellite\n"
   ]
  },
  {
   "cell_type": "code",
   "execution_count": 38,
   "metadata": {
    "scrolled": true
   },
   "outputs": [
    {
     "data": {
      "image/png": "[encoded data removed]",
      "text/plain": [
       "<Figure size 1080x360 with 1 Axes>"
      ]
     },
     "metadata": {},
     "output_type": "display_data"
    }
   ],
   "source": [
    "listOfSV = df_GNSS.Svid.unique()\n",
    "allRxSec = (df_GNSS.TimeNanos - df_GNSS.FullBiasNanos)*1e-9;\n",
    "epoch=allRxSec[0::len(listOfSV)]\n",
    "\n",
    "df_PR =pd.DataFrame({'epoch': allRxSec,'SV_ID': df_GNSS.Svid,'PR': PR_m})\n",
    "df_PR =df_PR[df_PR.SV_ID !=2] #remove this SV\n",
    "SV_ranges = df_PR.pivot(index='epoch',columns='SV_ID', values='PR')\n",
    "SV_ranges.plot(figsize=[15,5]);"
   ]
  },
  {
   "cell_type": "markdown",
   "metadata": {},
   "source": [
    "## Putting it all together\n",
    "\n",
    "Lets now define all of above as a single function."
   ]
  },
  {
   "cell_type": "code",
   "execution_count": 13,
   "metadata": {},
   "outputs": [],
   "source": [
    "def CalculatePseudorange(dataFrame):\n",
    "\n",
    "  GNSS_const = {'totalWeekSecs':7*24*3600,'lightSpeed':299792458} #constants\n",
    "  GPSWeek = (-dataFrame.FullBiasNanos*1e-9/GNSS_const['totalWeekSecs']).astype('int')\n",
    "  print('GPS week {} '.format(GPSWeek.unique()))\n",
    "\n",
    "  tRx_ns  = dataFrame.TimeNanos+dataFrame.TimeOffsetNanos-dataFrame.FullBiasNanos.iloc[0]-(GPSWeek*GNSS_const['totalWeekSecs']*1e9)   \n",
    "  #tRx_ns  = dataFrame.TimeNanos-dataFrame.FullBiasNanos-(GPSWeek*GNSS_const['totalWeekSecs']*1e9)  +dataFrame.TimeOffsetNanos \n",
    "  PR_m = (tRx_ns-dataFrame.ReceivedSvTimeNanos)*GNSS_const['lightSpeed']*1e-9\n",
    "  PR_m.tail()\n",
    "\n",
    "  # get epochs\n",
    "  listOfSV = dataFrame.Svid.unique()\n",
    "  allRxSec = (dataFrame.TimeNanos - dataFrame.FullBiasNanos)*1e-9;\n",
    "  epoch=allRxSec[0::len(listOfSV)] #all epochs, how many obs in data file\n",
    "\n",
    "  #create temp dataframe with ranges only\n",
    "  df_PR =pd.DataFrame({'epoch': allRxSec,'SV_ID': dataFrame.Svid,'PR': PR_m})\n",
    "  # split by columns\n",
    "  df_PRbySV = df_PR.pivot(index='epoch',columns='SV_ID', values='PR')\n",
    "\n",
    "  return df_PRbySV\n"
   ]
  },
  {
   "cell_type": "code",
   "execution_count": 14,
   "metadata": {
    "scrolled": true
   },
   "outputs": [
    {
     "name": "stdout",
     "output_type": "stream",
     "text": [
      "filtering PR from ./sampleData/s8_01.txt\n",
      "Observing following SVs:2,6,12,14,24,25,29,31,32\n",
      "Observed constelations: GPS\n",
      "GPS week [1946] \n"
     ]
    },
    {
     "data": {
      "text/html": [
       "<div>\n",
       "<style scoped>\n",
       "    .dataframe tbody tr th:only-of-type {\n",
       "        vertical-align: middle;\n",
       "    }\n",
       "\n",
       "    .dataframe tbody tr th {\n",
       "        vertical-align: top;\n",
       "    }\n",
       "\n",
       "    .dataframe thead th {\n",
       "        text-align: right;\n",
       "    }\n",
       "</style>\n",
       "<table border=\"1\" class=\"dataframe\">\n",
       "  <thead>\n",
       "    <tr style=\"text-align: right;\">\n",
       "      <th>SV_ID</th>\n",
       "      <th>2</th>\n",
       "      <th>6</th>\n",
       "      <th>12</th>\n",
       "      <th>14</th>\n",
       "      <th>24</th>\n",
       "      <th>25</th>\n",
       "      <th>29</th>\n",
       "      <th>31</th>\n",
       "      <th>32</th>\n",
       "    </tr>\n",
       "    <tr>\n",
       "      <th>epoch</th>\n",
       "      <th></th>\n",
       "      <th></th>\n",
       "      <th></th>\n",
       "      <th></th>\n",
       "      <th></th>\n",
       "      <th></th>\n",
       "      <th></th>\n",
       "      <th></th>\n",
       "      <th></th>\n",
       "    </tr>\n",
       "  </thead>\n",
       "  <tbody>\n",
       "    <tr>\n",
       "      <th>1,177,163,826.00</th>\n",
       "      <td>22,513,130.78</td>\n",
       "      <td>23,410,777.76</td>\n",
       "      <td>20,792,690.22</td>\n",
       "      <td>22,882,630.38</td>\n",
       "      <td>22,671,363.94</td>\n",
       "      <td>20,510,068.08</td>\n",
       "      <td>21,894,402.02</td>\n",
       "      <td>23,598,086.88</td>\n",
       "      <td>22,752,094.75</td>\n",
       "    </tr>\n",
       "    <tr>\n",
       "      <th>1,177,163,827.00</th>\n",
       "      <td>22,513,076.82</td>\n",
       "      <td>23,411,173.18</td>\n",
       "      <td>20,793,118.62</td>\n",
       "      <td>22,882,693.04</td>\n",
       "      <td>22,672,115.82</td>\n",
       "      <td>20,510,027.30</td>\n",
       "      <td>21,893,962.23</td>\n",
       "      <td>23,597,614.71</td>\n",
       "      <td>22,752,494.68</td>\n",
       "    </tr>\n",
       "    <tr>\n",
       "      <th>1,177,163,828.00</th>\n",
       "      <td>22,513,035.45</td>\n",
       "      <td>23,411,570.11</td>\n",
       "      <td>20,793,578.21</td>\n",
       "      <td>22,882,746.40</td>\n",
       "      <td>22,672,861.40</td>\n",
       "      <td>20,509,973.34</td>\n",
       "      <td>21,893,519.13</td>\n",
       "      <td>23,597,145.54</td>\n",
       "      <td>22,752,917.68</td>\n",
       "    </tr>\n",
       "    <tr>\n",
       "      <th>1,177,163,829.00</th>\n",
       "      <td>22,513,002.17</td>\n",
       "      <td>23,411,968.53</td>\n",
       "      <td>20,794,060.57</td>\n",
       "      <td>22,882,803.66</td>\n",
       "      <td>22,673,599.79</td>\n",
       "      <td>20,509,925.97</td>\n",
       "      <td>21,893,106.02</td>\n",
       "      <td>23,596,674.56</td>\n",
       "      <td>22,753,285.23</td>\n",
       "    </tr>\n",
       "    <tr>\n",
       "      <th>1,177,163,830.00</th>\n",
       "      <td>22,512,963.80</td>\n",
       "      <td>23,412,368.15</td>\n",
       "      <td>20,794,531.85</td>\n",
       "      <td>22,882,870.82</td>\n",
       "      <td>22,674,361.27</td>\n",
       "      <td>20,509,882.50</td>\n",
       "      <td>21,892,654.23</td>\n",
       "      <td>23,596,200.29</td>\n",
       "      <td>22,753,675.86</td>\n",
       "    </tr>\n",
       "  </tbody>\n",
       "</table>\n",
       "</div>"
      ],
      "text/plain": [
       "SV_ID                       2             6             12            14  \\\n",
       "epoch                                                                      \n",
       "1,177,163,826.00 22,513,130.78 23,410,777.76 20,792,690.22 22,882,630.38   \n",
       "1,177,163,827.00 22,513,076.82 23,411,173.18 20,793,118.62 22,882,693.04   \n",
       "1,177,163,828.00 22,513,035.45 23,411,570.11 20,793,578.21 22,882,746.40   \n",
       "1,177,163,829.00 22,513,002.17 23,411,968.53 20,794,060.57 22,882,803.66   \n",
       "1,177,163,830.00 22,512,963.80 23,412,368.15 20,794,531.85 22,882,870.82   \n",
       "\n",
       "SV_ID                       24            25            29            31  \\\n",
       "epoch                                                                      \n",
       "1,177,163,826.00 22,671,363.94 20,510,068.08 21,894,402.02 23,598,086.88   \n",
       "1,177,163,827.00 22,672,115.82 20,510,027.30 21,893,962.23 23,597,614.71   \n",
       "1,177,163,828.00 22,672,861.40 20,509,973.34 21,893,519.13 23,597,145.54   \n",
       "1,177,163,829.00 22,673,599.79 20,509,925.97 21,893,106.02 23,596,674.56   \n",
       "1,177,163,830.00 22,674,361.27 20,509,882.50 21,892,654.23 23,596,200.29   \n",
       "\n",
       "SV_ID                       32  \n",
       "epoch                           \n",
       "1,177,163,826.00 22,752,094.75  \n",
       "1,177,163,827.00 22,752,494.68  \n",
       "1,177,163,828.00 22,752,917.68  \n",
       "1,177,163,829.00 22,753,285.23  \n",
       "1,177,163,830.00 22,753,675.86  "
      ]
     },
     "execution_count": 14,
     "metadata": {},
     "output_type": "execute_result"
    }
   ],
   "source": [
    "df_GNSS = readGNSSLogger(data_file)\n",
    "df_GNSS = df_GNSS[2000:]\n",
    "df_GNSS = df_GNSS[df_GNSS.ConstellationType==1]\n",
    "BasicInfo(df_GNSS)\n",
    "\n",
    "pseudoranges = CalculatePseudorange(df_GNSS)\n",
    "pseudoranges.tail()\n"
   ]
  },
  {
   "cell_type": "code",
   "execution_count": 15,
   "metadata": {},
   "outputs": [
    {
     "data": {
      "image/png": "[encoded data removed]",
      "text/plain": [
       "<Figure size 432x288 with 1 Axes>"
      ]
     },
     "metadata": {},
     "output_type": "display_data"
    }
   ],
   "source": [
    "pseudoranges.plot();"
   ]
  },
  {
   "cell_type": "markdown",
   "metadata": {},
   "source": [
    "## Time accuracy\n",
    "\n",
    "* `getBiasUncertaintyNanos()` for the clock's Bias Uncertainty (1-Sigma) in nanoseconds. Usualy 20ns if fix, or ~$2^{e-9}$ns (2s) before.\n",
    "* `getTimeUncertaintyNanos()` for the hardware clock's time Uncertainty (1-Sigma) in nanoseconds. This tends to be 0.\n"
   ]
  },
  {
   "cell_type": "code",
   "execution_count": 16,
   "metadata": {
    "scrolled": false
   },
   "outputs": [
    {
     "data": {
      "image/png": "[encoded data removed]",
      "text/plain": [
       "<Figure size 432x288 with 1 Axes>"
      ]
     },
     "metadata": {},
     "output_type": "display_data"
    }
   ],
   "source": [
    "df_GNSS.BiasUncertaintyNanos.plot()\n",
    "plt.ylabel('Bias Uncertainty [ns]');"
   ]
  },
  {
   "cell_type": "markdown",
   "metadata": {},
   "source": [
    "\n",
    "## Problems with the accuracy of calculations\n",
    "\n",
    "Pandas will automaticaly determine best type of variables to use. As discussed before with large numbers we might still end up with calculation errors due to rounding (float point calculation). Example below demonstrate the problem.\n"
   ]
  },
  {
   "cell_type": "code",
   "execution_count": 42,
   "metadata": {},
   "outputs": [
    {
     "name": "stdout",
     "output_type": "stream",
     "text": [
      "ElapsedRealtimeMillis                       int64\n",
      "TimeNanos                                   int64\n",
      "LeapSecond                                float64\n",
      "TimeUncertaintyNanos                      float64\n",
      "FullBiasNanos                               int64\n",
      "BiasNanos                                 float64\n",
      "BiasUncertaintyNanos                      float64\n",
      "DriftNanosPerSecond                       float64\n",
      "DriftUncertaintyNanosPerSecond            float64\n",
      "HardwareClockDiscontinuityCount             int64\n",
      "                                           ...   \n",
      "AccumulatedDeltaRangeState                  int64\n",
      "AccumulatedDeltaRangeMeters               float64\n",
      "AccumulatedDeltaRangeUncertaintyMeters    float64\n",
      "CarrierFrequencyHz                        float64\n",
      "CarrierCycles                             float64\n",
      "CarrierPhase                              float64\n",
      "CarrierPhaseUncertainty                   float64\n",
      "MultipathIndicator                          int64\n",
      "SnrInDb                                   float64\n",
      "ConstellationType                           int64\n",
      "Length: 28, dtype: object\n"
     ]
    }
   ],
   "source": [
    "print(df_GNSS.dtypes)"
   ]
  },
  {
   "cell_type": "code",
   "execution_count": 44,
   "metadata": {},
   "outputs": [],
   "source": [
    "def CheckCalculus(number):\n",
    "\n",
    "  y=number-1\n",
    "  z=number-1+1\n",
    "  print('Checking for floating poing overflow, it should be 1 and 0\\nx-y={:}\\nz-x={:}'.format(number-y,number-z))"
   ]
  },
  {
   "cell_type": "code",
   "execution_count": 50,
   "metadata": {
    "scrolled": true
   },
   "outputs": [
    {
     "name": "stdout",
     "output_type": "stream",
     "text": [
      "Checking for floating poing overflow, it should be 1 and 0\n",
      "x-y=1\n",
      "z-x=0\n",
      "Checking for floating poing overflow, it should be 1 and 0\n",
      "x-y=1\n",
      "z-x=0\n",
      "Checking for floating poing overflow, it should be 1 and 0\n",
      "x-y=0.0\n",
      "z-x=0.0\n",
      "Checking for floating poing overflow, it should be 1 and 0\n",
      "x-y=0.0\n",
      "z-x=0.0\n"
     ]
    }
   ],
   "source": [
    "x=-1151285108458178048\n",
    "CheckCalculus(x)\n",
    "CheckCalculus(x*100000)\n",
    "\n",
    "CheckCalculus(x*1e3) #hidden cast to float\n",
    "CheckCalculus(x*1.0) #float\n",
    "\n",
    "\n",
    "#import decimal as dec\n"
   ]
  },
  {
   "cell_type": "markdown",
   "metadata": {},
   "source": [
    "A careful approach is needed to avoid this calculation problem. Also check those additional resources:\n",
    "\n",
    "* <http://mpmath.org/>"
   ]
  },
  {
   "cell_type": "markdown",
   "metadata": {},
   "source": [
    "# Some helpful links\n",
    "\n",
    "* [Google code](https://github.com/google/gps-measurement-tools) - this is the official code from Google, in Matlab.\n",
    "* [my version of GPS Measurement tools](https://github.com/DfAC/gps-measurement-tools), mostly added notes and small changes simplifying the use of script.\n",
    "* [this repo](https://github.com/DfAC/AndroidGNSS)\n",
    "\n",
    "\n",
    "* [useful comments on pandas](d:\\tmp\\Dropbox\\Edu\\ION_GNSS\\AndroidGNSS\\)\n",
    "* [bitwise operations in python](https://wiki.python.org/moin/BitwiseOperators)\n",
    "* [format string](https://docs.python.org/3/library/string.html)\n",
    "* [format output](https://pyformat.info)\n",
    "* [Rokybun blog](http://rokubun.cat/2016/06/30/android-n-preview-gnss-measurements/)\n",
    "* [BlackDotGNSS blog](http://www.blackdotgnss.com/2016/09/20/ppp-with-smartphones-are-we-there-yet/)\n"
   ]
  }
 ],
 "metadata": {
  "anaconda-cloud": {},
  "kernelspec": {
   "display_name": "Python 3",
   "language": "python",
   "name": "python3"
  },
  "language_info": {
   "codemirror_mode": {
    "name": "ipython",
    "version": 3
   },
   "file_extension": ".py",
   "mimetype": "text/x-python",
   "name": "python",
   "nbconvert_exporter": "python",
   "pygments_lexer": "ipython3",
   "version": "3.6.6"
  }
 },
 "nbformat": 4,
 "nbformat_minor": 1
}
